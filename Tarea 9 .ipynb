{
 "cells": [
  {
   "cell_type": "markdown",
   "metadata": {},
   "source": [
    "# Ejercicio 2.\n",
    "Utiliza tu función derivadaNumerica para calcular la derivada de la función $\\cos$ en un punto $x_0\\in[0,1)$. Compara tu resultado con el que indica el cálculo exacto. Utiliza valores de $h$ cada vez más pequeños, grafica el comportamiento de la derivada y muestra como converge al valor exacto conforme tomamos $h$'s cada vez más pequeño. Para ello pueden graficar el resultado de la derivada numérica contra $1/h$. Observa el resultado de la aproximación y comenta. ¿El error es del orden de $h$?, para ver esto grafica el error relativo a $f'(x_0)$: $$\\epsilon=\\left|\\frac{\\Delta f(x_0,h)/h-f'(x_0)}{f'(x_0)}\\right|,$$ respecto a $h$."
   ]
  },
  {
   "cell_type": "code",
   "execution_count": 12,
   "metadata": {},
   "outputs": [
    {
     "data": {
      "text/plain": [
       "derivada (generic function with 1 method)"
      ]
     },
     "execution_count": 12,
     "metadata": {},
     "output_type": "execute_result"
    }
   ],
   "source": [
    "function derivada(f,x,h) #Nombramos nuestra función \"derivada\" con sus respectivas variables.\n",
    "       df=(f(x+h)-f(x))/h #Introducimos la derivada (la fórmula anteriormente vista).\n",
    "    end"
   ]
  },
  {
   "cell_type": "code",
   "execution_count": 13,
   "metadata": {},
   "outputs": [
    {
     "data": {
      "text/plain": [
       "f (generic function with 1 method)"
      ]
     },
     "execution_count": 13,
     "metadata": {},
     "output_type": "execute_result"
    }
   ],
   "source": [
    "f(x)=cos(x) #Definimos la función coseno.\n"
   ]
  },
  {
   "cell_type": "code",
   "execution_count": 14,
   "metadata": {},
   "outputs": [
    {
     "data": {
      "text/plain": [
       "-0.000249999994705874"
      ]
     },
     "execution_count": 14,
     "metadata": {},
     "output_type": "execute_result"
    }
   ],
   "source": [
    "derivada(f,0,0.0005) #Calculamos la derivada de coseno en el punto 0.\n"
   ]
  },
  {
   "cell_type": "code",
   "execution_count": 15,
   "metadata": {},
   "outputs": [
    {
     "data": {
      "text/plain": [
       "-0.0"
      ]
     },
     "execution_count": 15,
     "metadata": {},
     "output_type": "execute_result"
    }
   ],
   "source": [
    "-1*sin(0) # respuesta exacta, a la que debe converger la solución.\n"
   ]
  },
  {
   "cell_type": "code",
   "execution_count": 21,
   "metadata": {},
   "outputs": [],
   "source": [
    "using PyPlot\n"
   ]
  },
  {
   "cell_type": "code",
   "execution_count": 17,
   "metadata": {},
   "outputs": [
    {
     "data": {
      "text/plain": [
       "derivada2 (generic function with 1 method)"
      ]
     },
     "execution_count": 17,
     "metadata": {},
     "output_type": "execute_result"
    }
   ],
   "source": [
    "function derivada2(f,x)\n",
    "list=zeros(100) #Se crea una lista de ceros donde se guardará el valor de la derivada\n",
    "n=1\n",
    "           for i in 1:100 \n",
    "              df=(f(x+(1/n))-f(x))*n #Aplicamos la derivada\n",
    "              list[i]=df; #guardamos el valor de la derivada en list\n",
    "              n+=1 # se aumenta el valor de n en cada iteración,aqui h=1/n\n",
    "           end\n",
    "return list \n",
    "end"
   ]
  },
  {
   "cell_type": "code",
   "execution_count": 18,
   "metadata": {},
   "outputs": [
    {
     "data": {
      "text/plain": [
       "100-element Array{Float64,1}:\n",
       " -0.459698  \n",
       " -0.244835  \n",
       " -0.165129  \n",
       " -0.12435   \n",
       " -0.0996671 \n",
       " -0.0831406 \n",
       " -0.0713072 \n",
       " -0.0624187 \n",
       " -0.0554984 \n",
       " -0.0499583 \n",
       " -0.0454232 \n",
       " -0.0416426 \n",
       " -0.0384426 \n",
       "  ⋮         \n",
       " -0.00561792\n",
       " -0.0055555 \n",
       " -0.00549445\n",
       " -0.00543473\n",
       " -0.00537629\n",
       " -0.0053191 \n",
       " -0.00526311\n",
       " -0.00520829\n",
       " -0.00515459\n",
       " -0.005102  \n",
       " -0.00505046\n",
       " -0.00499996"
      ]
     },
     "execution_count": 18,
     "metadata": {},
     "output_type": "execute_result"
    }
   ],
   "source": [
    "a=derivada2(f,0) #lista de valores para graficar\n"
   ]
  },
  {
   "cell_type": "code",
   "execution_count": 24,
   "metadata": {},
   "outputs": [
    {
     "data": {
      "image/png": "[encoded data removed]",
      "text/plain": [
       "PyPlot.Figure(PyObject <matplotlib.figure.Figure object at 0x00000000285FF6D8>)"
      ]
     },
     "metadata": {},
     "output_type": "display_data"
    }
   ],
   "source": [
    "b=linspace(-10,100)\n",
    "y=b*0\n",
    "plot(b,y); #El valor de le derivada exacta\n",
    "plot(real(a)); #Se grafica la derivada respecto al numero de la iteración n=1/h\n",
    "grid(\"on\");"
   ]
  },
  {
   "cell_type": "markdown",
   "metadata": {},
   "source": [
    "### _Podemos notar que el valor de la aproximación efectivamente converge al valor de la derivada exacta_"
   ]
  },
  {
   "cell_type": "markdown",
   "metadata": {},
   "source": [
    "# Ejercicio 3.\n",
    "Teniendo en mente la serie de Taylor para $f(x+h)$ ¿existe alguna forma de mejorar el cálculo de la derivada numérica? Comenta.\n",
    "Tip: ¿Que pasa con los términos pares de la serie cuando la calculamos para $f(x-h)$?, ¿Como podemos despejar la derivada exacta de $f$ combinando ambas series?\n"
   ]
  },
  {
   "cell_type": "markdown",
   "metadata": {},
   "source": [
    "_Desarrollando las series de Taylor de $f(x+h)$ y de $f(x-h)$ tenemos que..._\n",
    "$$f(x+h)=f(x)+hf'(x)+\\dfrac{h^{2}}{2}f''(x)+\\dfrac{h^{3}}{6}f'''(x)+\\mathcal{O}(h^{4})$$\n",
    "$$f(x-h)=f(x)-hf'(x)+\\dfrac{h^{2}}{2}f''(x)-\\dfrac{h^{3}}{6}f'''(x)+\\mathcal{O}(h^{4})$$\n",
    "\n",
    "Por otra parte, si restamos las dos expresiones anteriores tenemos que:\n",
    "$$f(x+h)-f(x-h)=2hf'(x)+\\dfrac{h^{3}}{3}f'''(x)+\\mathcal{O}(h^{5})=\n",
    "2hf'(x)+\\mathcal{O}(h^{3})$$\n",
    "\n",
    "Ahora dividiendo entre $2h$ y restamos $f'(x)$ tenemos que....\n",
    "$$\\frac{f(x+h)-f(x-h)}{2h}-f'(x)=\\mathcal{O}(h^{2})$$\n",
    "Despejando a $f'(x)$ y despreciando el error obtenemos...\n",
    "$$f'(x)\\approx \\frac{f(x+h) -f(x-h)}{2h}$$\n",
    "\n",
    "### Pregunta:¿Hay una forma de construir una derivada numérica aún mas exacta sin tener que hacer $h$ arbitrariamente pequeño?, ¿que opinas?\n",
    "\n",
    "_La forma de hacer que la derivada sea más exacta es tomar un itervalo muy pequeño entre los puntos que tomamos de $$\\frac{F(x+h)-F(x)}{h}$$\n",
    "eso significa que $h$ tiene que ser muy pequeño, por lo tanto no hay manera de hacer la derivada exacta sin hacer $h$ pequeño._"
   ]
  },
  {
   "cell_type": "markdown",
   "metadata": {},
   "source": [
    "# Ejercicio 4.\n",
    "Implementa la derivada simétrica en Julia como derivada_Simetrica y repite la comparativa que realizaste en el ejercicio 2."
   ]
  },
  {
   "cell_type": "code",
   "execution_count": 25,
   "metadata": {},
   "outputs": [
    {
     "data": {
      "text/plain": [
       "derivadasimetrica (generic function with 1 method)"
      ]
     },
     "execution_count": 25,
     "metadata": {},
     "output_type": "execute_result"
    }
   ],
   "source": [
    "function derivadasimetrica(f,x,h)   #definimos una función que recibe una función f, un punto donde se evalua la derivada,un h que es un cambio pequeño, que tiende a cero.\n",
    "   return f2=(f(x+h)-f(x-h))/(2*h)  #pedimos que la función f1 sea el resultado de aplicar la función f a un (x+h)que es un cambio pequeño en el punto inicial X (tecnicamente aplicamos la definicion de derivad, sin hacer que h tienda a cero.)\n",
    "end"
   ]
  },
  {
   "cell_type": "code",
   "execution_count": 34,
   "metadata": {},
   "outputs": [
    {
     "data": {
      "text/plain": [
       "0.0"
      ]
     },
     "execution_count": 34,
     "metadata": {},
     "output_type": "execute_result"
    }
   ],
   "source": [
    "derivadasimetrica(x->cos(x),0,0.1) "
   ]
  },
  {
   "cell_type": "code",
   "execution_count": 35,
   "metadata": {},
   "outputs": [
    {
     "data": {
      "text/plain": [
       "-0.0"
      ]
     },
     "execution_count": 35,
     "metadata": {},
     "output_type": "execute_result"
    }
   ],
   "source": [
    "-sin(0)"
   ]
  },
  {
   "cell_type": "code",
   "execution_count": 36,
   "metadata": {},
   "outputs": [
    {
     "data": {
      "text/plain": [
       "derivadasimetrica2 (generic function with 1 method)"
      ]
     },
     "execution_count": 36,
     "metadata": {},
     "output_type": "execute_result"
    }
   ],
   "source": [
    "function derivadasimetrica2(f,x) #Realizamos lo mismo que en el ejercicio 2.\n",
    "list=zeros(100)\n",
    "n=1\n",
    "           for i in 1:100\n",
    "              df=(f(x+(1/n))-f(x-(1/n)))*n/2 \n",
    "              list[i]=df; #Asignamos el valor de la derivada a un valor de la lista\n",
    "              n+=1 #Se aumenta el valor de n en cada iteración,aqui h=1/n\n",
    "           end\n",
    "return list\n",
    "end"
   ]
  },
  {
   "cell_type": "code",
   "execution_count": 37,
   "metadata": {},
   "outputs": [
    {
     "data": {
      "text/plain": [
       "100-element Array{Float64,1}:\n",
       " -0.59501 \n",
       " -0.67801 \n",
       " -0.694085\n",
       " -0.699764\n",
       " -0.702402\n",
       " -0.703838\n",
       " -0.704704\n",
       " -0.705267\n",
       " -0.705653\n",
       " -0.705929\n",
       " -0.706133\n",
       " -0.706289\n",
       " -0.70641 \n",
       "  ⋮       \n",
       " -0.707092\n",
       " -0.707092\n",
       " -0.707093\n",
       " -0.707093\n",
       " -0.707093\n",
       " -0.707093\n",
       " -0.707094\n",
       " -0.707094\n",
       " -0.707094\n",
       " -0.707095\n",
       " -0.707095\n",
       " -0.707095"
      ]
     },
     "execution_count": 37,
     "metadata": {},
     "output_type": "execute_result"
    }
   ],
   "source": [
    "q=derivadasimetrica2(f,pi/4) #Evaluamos las dos funciones en el mismo punto (tomando el punro pi/4)"
   ]
  },
  {
   "cell_type": "code",
   "execution_count": 40,
   "metadata": {},
   "outputs": [
    {
     "data": {
      "text/plain": [
       "100-element Array{Float64,1}:\n",
       " -0.920065\n",
       " -0.851135\n",
       " -0.810849\n",
       " -0.787693\n",
       " -0.772877\n",
       " -0.762627\n",
       " -0.755126\n",
       " -0.749403\n",
       " -0.744896\n",
       " -0.741255\n",
       " -0.738252\n",
       " -0.735734\n",
       " -0.733593\n",
       "  ⋮       \n",
       " -0.711064\n",
       " -0.711021\n",
       " -0.710978\n",
       " -0.710936\n",
       " -0.710895\n",
       " -0.710855\n",
       " -0.710815\n",
       " -0.710777\n",
       " -0.710739\n",
       " -0.710702\n",
       " -0.710666\n",
       " -0.710631"
      ]
     },
     "execution_count": 40,
     "metadata": {},
     "output_type": "execute_result"
    }
   ],
   "source": [
    "w=derivada2(f,pi/4)\n"
   ]
  },
  {
   "cell_type": "code",
   "execution_count": 39,
   "metadata": {},
   "outputs": [
    {
     "data": {
      "text/plain": [
       "-0.7071067811865475"
      ]
     },
     "execution_count": 39,
     "metadata": {},
     "output_type": "execute_result"
    }
   ],
   "source": [
    "-sin(pi/4) #El valor exacto de la derivada\n"
   ]
  },
  {
   "cell_type": "code",
   "execution_count": 43,
   "metadata": {},
   "outputs": [
    {
     "data": {
      "image/png": "[encoded data removed]",
      "text/plain": [
       "PyPlot.Figure(PyObject <matplotlib.figure.Figure object at 0x0000000028819470>)"
      ]
     },
     "metadata": {},
     "output_type": "display_data"
    }
   ],
   "source": [
    "# damos el valor de la derivada exacta y graficamos hacia donde convergen las aproximaciones de nuestras funciones\n",
    "z=zeros(100) \n",
    "for i in 1:100\n",
    "    z[i]=-sin(pi/4)\n",
    "end \n",
    "return z\n",
    "\n",
    "plot(z);#Graficamos la soluciòn exacta de la derivada\n",
    "plot(q); #Graficamos ambas funciones evaluadas en el mismo punto\n",
    "plot(w);x=range(-10,100)\n",
    "grid(\"on\");"
   ]
  },
  {
   "cell_type": "markdown",
   "metadata": {},
   "source": [
    "Podemos apreciar que la derivada simetrica (naranja) converge mucho más rápido que la derivada normal"
   ]
  },
  {
   "cell_type": "markdown",
   "metadata": {},
   "source": [
    "# Ejercicio 5:\n",
    "Demuestre que $\\Delta_h$ es un operador lineal y que podemos \"factorizar\" la función a la derecha del operador. Hecho esto podemos quitar de ambos lados la función $f$ para obtener lo siguiente: $$\\Delta_h=\\sum_{n=1}^{\\infty} \\frac{1}{n!}h^n\\left.\\frac{d^n}{d\\xi^n}\\right|_{\\substack{ \\xi=x }}$$"
   ]
  },
  {
   "cell_type": "markdown",
   "metadata": {},
   "source": [
    "_Para demostrar que $\\Delta_h$ es una operador lineal debemos de ver que abra suma y saque escalares_\n",
    "\n",
    "Probemos que abre sumas: $$\\Delta_{h}( f +g) = \\sum\\nolimits_{n=1}^\\infty \\frac{h^n}{n!} \\frac{d^n( f +g)}{dx^n}$$\n",
    "Por las propiedades de la derivada y el resultado anterior hacemos... \n",
    "$$\\Delta_{h}( f +g) = \\sum\\nolimits_{n = 1}^{\\infty} \\frac{h^n}{n!}\\left[ \\frac{d^n f}{dx^n} +\\frac{d^n g}{dx^n}\\right]$$\n",
    "y separamos de tal manera que:\n",
    "$$= \\sum\\nolimits_{n = 1}^{\\infty} \\left[\\frac{h^n}{n!}\\frac{d^n f}{dx^n} + \\frac{h^n}{n!} \\frac{d^n g}{dx^n}\\right]$$\n",
    "\n",
    "\n",
    "$$ = \\ \\sum\\nolimits_{n = 1}^{\\infty} \\frac{h^n}{n!}\\frac{d^n f}{dx^n} +\\sum\\nolimits_{n = 1}^{\\infty} \\frac{h^n}{n!}\\frac{d^n g}{dx^2}$$\n",
    "\n",
    "usando la definición de $\\Delta_{h}$\n",
    "$$= \\ \\Delta_{h}(f) +\\Delta_{h}(g)$$\n",
    "\n",
    "Por lo tanto podemos decir que el operador abre sumas, ahora probemos que saca escalares, tomando una $a\\epsilon R$ entonces...\n",
    "\n",
    "$$\\Delta_{h}(af)=\\sum\\nolimits_{n=1}^\\infty \\frac{h^n}{n!} \\frac{d^n(af)}{dx^n}=a\\sum\\nolimits_{n=1}^\\infty \\frac{h^n}{n!} \\frac{d^n(f)}{dx^n}= a\\Delta_{h}(f)$$\n",
    "\n",
    "todo lo anterior es posible ya que al $a$ ser una constante puede salir de la derivada y al no tener un subindice $n$ puede salir tambien de la suma.\n",
    "Como cumple las condiciones de un operador lineal podemos decir que $\\Delta_{h}$ es operador\n"
   ]
  },
  {
   "cell_type": "markdown",
   "metadata": {},
   "source": [
    "\n",
    "# Ejercicio 6:\n",
    "Para saber como se relaciona el operador derivada exacta con el operador diferencia finita hacia adelante es necesario invertir la serie $\\Delta_h=\\sum_{n=1}^{\\infty} \\frac{1}{n!}h^n\\left.\\frac{d^n}{d\\xi^n}\\right|_{\\substack{ \\xi=x }}$. Una forma directa de hacerlo es identificar la función para la cual es esa serie. Entonces, pensando en el operador derivada como un número, la serie se identifica como función evaluada en $\\left. h\\frac{d}{d_\\xi}\\right|_{\\substack{ \\xi=x }}$, ¿cual es esa función?. Si llamamos $\\phi$ a dicha función, deberiamos de tener una relación de la siguiente forma: $$\\Delta_h=\\phi\\left(h\\left.\\frac{d}{d\\xi}\\right|_{\\substack{ \\xi=x }}\\right)$$\n",
    "Nota: En la clase se demostró que $\\phi(x)=e^x-1$"
   ]
  },
  {
   "cell_type": "markdown",
   "metadata": {},
   "source": [
    "Usando la serie de Taylor para la funcion exponencial\n",
    "$$e^x = \\sum_{n = 0}^{\\infty} \\frac{x^n}{n!}$$\n",
    "Suponiendo ahora que $\\Delta_{h}=\\phi(x)$ y usandolo demostrado en clase de $ϕ(x)=ex−1$\n",
    "$$\\Delta_{h} = e^{h\\frac{d}{dx}} -1$$\n",
    "Ahora despejamos a $\\frac{d}{dx}$ y queda como:\n",
    "$$\\frac{1}{h}ln(\\Delta_{h} +1) = \\frac{d}{dx}$$\n",
    "y usando $$ln(1+x)= 0+\\left. \\frac{1}{1+x}\\right|_{x=0}x-\\frac{x^2}{2}$$\n",
    "al final tenemos \n",
    "$$\\frac{d}{dx} =\\frac{1}{h}\\left(\\Delta_{h} -\\frac{1}{2} \\Delta_{h}^2+.....\\right)$$"
   ]
  },
  {
   "cell_type": "code",
   "execution_count": null,
   "metadata": {},
   "outputs": [],
   "source": []
  }
 ],
 "metadata": {
  "kernelspec": {
   "display_name": "Julia 0.6.1",
   "language": "julia",
   "name": "julia-0.6"
  },
  "language_info": {
   "file_extension": ".jl",
   "mimetype": "application/julia",
   "name": "julia",
   "version": "0.6.1"
  }
 },
 "nbformat": 4,
 "nbformat_minor": 2
}
