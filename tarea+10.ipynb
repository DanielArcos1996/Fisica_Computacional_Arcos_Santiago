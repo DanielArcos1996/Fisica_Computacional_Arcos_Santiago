{
 "cells": [
  {
   "cell_type": "code",
   "execution_count": 1,
   "metadata": {
    "collapsed": true
   },
   "outputs": [],
   "source": [
    "using SymPy"
   ]
  },
  {
   "cell_type": "code",
   "execution_count": 2,
   "metadata": {
    "collapsed": true
   },
   "outputs": [],
   "source": [
    "function coeff_Taylor_asinh(i) # En SymPy la función arcsenh está expresado por asinh.\n",
    "x=Sym(\"x\");\n",
    "h=Sym(\"h\");\n",
    "N(subs(diff(asinh(x/2.0),x,i)/factorial(Float64(i)),x=>0))\n",
    "end;\n",
    "\n",
    "function coeff_Taylor_asinh_rational(i)\n",
    "    x=Sym(\"x\");\n",
    "    h=Sym(\"h\");\n",
    "    subs(diff(asinh(x/2.0),x,i)/factorial(i),x=>0)\n",
    "end;\n",
    "\n",
    "function finite_difference_forward(f)\n",
    "    return (x,h)->f(x+h,h)-f(x-h,h) # Diferencia finita simétrica.\n",
    "end;"
   ]
  },
  {
   "cell_type": "code",
   "execution_count": 3,
   "metadata": {
    "collapsed": false
   },
   "outputs": [],
   "source": [
    "g=SymFunction(\"g\");"
   ]
  },
  {
   "cell_type": "code",
   "execution_count": 4,
   "metadata": {
    "collapsed": false
   },
   "outputs": [
    {
     "data": {
      "text/latex": [
       "$$g{\\left (x \\right )}$$"
      ],
      "text/plain": [
       "g(x)"
      ]
     },
     "execution_count": 4,
     "metadata": {},
     "output_type": "execute_result"
    }
   ],
   "source": [
    "rr(x,h)=g(x)\n",
    "rr(Sym(\"x\"),Sym(\"h\"))"
   ]
  },
  {
   "cell_type": "code",
   "execution_count": 6,
   "metadata": {
    "collapsed": false
   },
   "outputs": [
    {
     "data": {
      "text/latex": [
       "$$- g{\\left (- h + x \\right )} + g{\\left (h + x \\right )}$$"
      ],
      "text/plain": [
       "-g(-h + x) + g(h + x)"
      ]
     },
     "execution_count": 6,
     "metadata": {},
     "output_type": "execute_result"
    }
   ],
   "source": [
    "gg=finite_difference_forward(rr);\n",
    "gg(Sym(\"x\"),Sym(\"h\"))"
   ]
  },
  {
   "cell_type": "code",
   "execution_count": 7,
   "metadata": {
    "collapsed": true
   },
   "outputs": [],
   "source": [
    "function Derivative_order(f,x,h,order)\n",
    "    G(x,h)=f(x)\n",
    "    der=0\n",
    "    for i in range(1,order)\n",
    "        G=finite_difference_forward(G)\n",
    "        der=der+coeff_Taylor_asinh(i)*G(x,h)\n",
    "    end\n",
    "    der/h\n",
    "end;\n",
    "function Derivative_order_rational_coefficients(f,x,h,order)\n",
    "    G(x,h)=f(x)\n",
    "    der=0\n",
    "    for i in range(1,order)\n",
    "        G=finite_difference_forward(G)\n",
    "        der=der+coeff_Taylor_asinh_rational(i)*G(x,h)\n",
    "    end\n",
    "    der/h\n",
    "end;"
   ]
  },
  {
   "cell_type": "code",
   "execution_count": 9,
   "metadata": {
    "collapsed": false
   },
   "outputs": [
    {
     "data": {
      "text/plain": [
       "0.5440211108893371"
      ]
     },
     "execution_count": 9,
     "metadata": {},
     "output_type": "execute_result"
    }
   ],
   "source": [
    "Derivative_order(cos,10,0.01,6)"
   ]
  },
  {
   "cell_type": "code",
   "execution_count": 10,
   "metadata": {
    "collapsed": false
   },
   "outputs": [
    {
     "data": {
      "text/plain": [
       "0.5440211108893698"
      ]
     },
     "execution_count": 10,
     "metadata": {},
     "output_type": "execute_result"
    }
   ],
   "source": [
    "-sin(10)"
   ]
  },
  {
   "cell_type": "code",
   "execution_count": 11,
   "metadata": {
    "collapsed": true
   },
   "outputs": [],
   "source": [
    "f=SymFunction(\"f\");"
   ]
  },
  {
   "cell_type": "code",
   "execution_count": 15,
   "metadata": {
    "collapsed": false
   },
   "outputs": [
    {
     "data": {
      "text/latex": [
       "$$\\frac{1}{h} \\left(- 0.5 f{\\left (- h + x \\right )} + 0.5 f{\\left (h + x \\right )}\\right)$$"
      ],
      "text/plain": [
       "-0.5*f(-h + x) + 0.5*f(h + x)\n",
       "-----------------------------\n",
       "              h              "
      ]
     },
     "execution_count": 15,
     "metadata": {},
     "output_type": "execute_result"
    }
   ],
   "source": [
    "aprox=Derivative_order_rational_coefficients(SymFunction(\"f\"),Sym(\"x\"),Sym(\"h\"),1)"
   ]
  },
  {
   "cell_type": "code",
   "execution_count": 16,
   "metadata": {
    "collapsed": false
   },
   "outputs": [
    {
     "data": {
      "text/latex": [
       "$$1.0 \\left. \\frac{d}{d \\xi_{1}} f{\\left (\\xi_{1} \\right )} \\right|_{\\substack{ \\xi_{1}=x }} + 0.166666666666667 h^{2} \\left. \\frac{d^{3}}{d \\xi_{1}^{3}}  f{\\left (\\xi_{1} \\right )} \\right|_{\\substack{ \\xi_{1}=x }} + 0.00833333333333333 h^{4} \\left. \\frac{d^{5}}{d \\xi_{1}^{5}}  f{\\left (\\xi_{1} \\right )} \\right|_{\\substack{ \\xi_{1}=x }} + \\mathcal{O}\\left(h^{5}\\right)$$"
      ],
      "text/plain": [
       "                                                   /   3           \\|         \n",
       "    /  d           \\|                            2 |  d            ||         \n",
       "1.0*|-----(f(xi_1))||       + 0.166666666666667*h *|------(f(xi_1))||       + \n",
       "    \\dxi_1         /|xi_1=x                        |     3         ||         \n",
       "                                                   \\dxi_1          /|xi_1=x   \n",
       "\n",
       "                       /   5           \\|              \n",
       "                     4 |  d            ||          / 5\\\n",
       "0.00833333333333333*h *|------(f(xi_1))||       + O\\h /\n",
       "                       |     5         ||              \n",
       "                       \\dxi_1          /|xi_1=x        "
      ]
     },
     "execution_count": 16,
     "metadata": {},
     "output_type": "execute_result"
    }
   ],
   "source": [
    "series(aprox,Sym(\"h\"),0,5)"
   ]
  },
  {
   "cell_type": "code",
   "execution_count": 18,
   "metadata": {
    "collapsed": false
   },
   "outputs": [
    {
     "data": {
      "text/latex": [
       "$$\\frac{1}{h} \\left(- 0.00234375 f{\\left (- 5 h + x \\right )} + 0.0325520833333333 f{\\left (- 3 h + x \\right )} - 0.5859375 f{\\left (- h + x \\right )} + 0.5859375 f{\\left (h + x \\right )} - 0.0325520833333333 f{\\left (3 h + x \\right )} + 0.00234375 f{\\left (5 h + x \\right )}\\right)$$"
      ],
      "text/plain": [
       "-0.00234375*f(-5*h + x) + 0.0325520833333333*f(-3*h + x) - 0.5859375*f(-h + x)\n",
       "------------------------------------------------------------------------------\n",
       "                                                                             h\n",
       "\n",
       " + 0.5859375*f(h + x) - 0.0325520833333333*f(3*h + x) + 0.00234375*f(5*h + x)\n",
       "-----------------------------------------------------------------------------\n",
       "                                                                             "
      ]
     },
     "execution_count": 18,
     "metadata": {},
     "output_type": "execute_result"
    }
   ],
   "source": [
    "aprox=Derivative_order_rational_coefficients(SymFunction(\"f\"),Sym(\"x\"),Sym(\"h\"),5)"
   ]
  },
  {
   "cell_type": "code",
   "execution_count": 19,
   "metadata": {
    "collapsed": false
   },
   "outputs": [
    {
     "data": {
      "text/latex": [
       "$$\\frac{1}{h} 1.95156391047391 \\cdot 10^{-17} f{\\left (x \\right )} + 1.0 \\left. \\frac{d}{d \\xi_{1}} f{\\left (\\xi_{1} \\right )} \\right|_{\\substack{ \\xi_{1}=x }} + 2.77555756156289 \\cdot 10^{-17} h \\left. \\frac{d^{2}}{d \\xi_{1}^{2}}  f{\\left (\\xi_{1} \\right )} \\right|_{\\substack{ \\xi_{1}=x }} + 4.85722573273506 \\cdot 10^{-17} h^{2} \\left. \\frac{d^{3}}{d \\xi_{1}^{3}}  f{\\left (\\xi_{1} \\right )} \\right|_{\\substack{ \\xi_{1}=x }} + 1.38777878078145 \\cdot 10^{-17} h^{3} \\left. \\frac{d^{4}}{d \\xi_{1}^{4}}  f{\\left (\\xi_{1} \\right )} \\right|_{\\substack{ \\xi_{1}=x }} + 2.77555756156289 \\cdot 10^{-17} h^{4} \\left. \\frac{d^{5}}{d \\xi_{1}^{5}}  f{\\left (\\xi_{1} \\right )} \\right|_{\\substack{ \\xi_{1}=x }} + \\mathcal{O}\\left(h^{6}\\right)$$"
      ],
      "text/plain": [
       "                                                                              \n",
       "1.95156391047391e-17*f(x)       /  d           \\|                             \n",
       "------------------------- + 1.0*|-----(f(xi_1))||       + 2.77555756156289e-17\n",
       "            h                   \\dxi_1         /|xi_1=x                       \n",
       "                                                                              \n",
       "\n",
       "   /   2           \\|                                 /   3           \\|      \n",
       "   |  d            ||                               2 |  d            ||      \n",
       "*h*|------(f(xi_1))||       + 4.85722573273506e-17*h *|------(f(xi_1))||      \n",
       "   |     2         ||                                 |     3         ||      \n",
       "   \\dxi_1          /|xi_1=x                           \\dxi_1          /|xi_1=x\n",
       "\n",
       "                           /   4           \\|                                 \n",
       "                         3 |  d            ||                               4 \n",
       " + 1.38777878078145e-17*h *|------(f(xi_1))||       + 2.77555756156289e-17*h *\n",
       "                           |     4         ||                                 \n",
       "                           \\dxi_1          /|xi_1=x                           \n",
       "\n",
       "/   5           \\|              \n",
       "|  d            ||          / 6\\\n",
       "|------(f(xi_1))||       + O\\h /\n",
       "|     5         ||              \n",
       "\\dxi_1          /|xi_1=x        "
      ]
     },
     "execution_count": 19,
     "metadata": {},
     "output_type": "execute_result"
    }
   ],
   "source": [
    "series(aprox,Sym(\"h\"),0,6) #converge mas rapido la derivada\n"
   ]
  }
 ],
 "metadata": {
  "kernelspec": {
   "display_name": "Julia 0.6.0",
   "language": "julia",
   "name": "julia-0.6"
  },
  "language_info": {
   "file_extension": ".jl",
   "mimetype": "application/julia",
   "name": "julia",
   "version": "0.6.0"
  }
 },
 "nbformat": 4,
 "nbformat_minor": 2
}
