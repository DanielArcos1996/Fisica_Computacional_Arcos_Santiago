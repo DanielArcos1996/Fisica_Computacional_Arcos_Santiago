{
 "cells": [
  {
   "cell_type": "markdown",
   "metadata": {},
   "source": [
    "# MÉTODO DEL RECTÁNGULO"
   ]
  },
  {
   "cell_type": "code",
   "execution_count": 5,
   "metadata": {
    "collapsed": false
   },
   "outputs": [
    {
     "data": {
      "text/plain": [
       "rect (generic function with 1 method)"
      ]
     },
     "execution_count": 5,
     "metadata": {},
     "output_type": "execute_result"
    }
   ],
   "source": [
    "function rect(f,a,b,N)   #definimos una función que pide como entradas una uncion, un inicio de intervalo, final y diviciones de este.\n",
    "    x=linspace(a,b,N) #Usando una función linspace damos una arreglo de valores iniciando en a y terminando en b dividido en N espacios.\n",
    "    integral=0                        #comenzamos el valor de la integral en 0 \n",
    "\n",
    "    for i in 1:N-1              #usamos un ciclo for que cambia los valores de nuestra aproximación al área \n",
    "        a=x[i]                  #declaramos una a=x[i]  \n",
    "        b=x[i+1]                #usamos una b=x[i+1] para representar el siguiente paso de a.\n",
    "      \n",
    "       integral=integral+(b-a)*f((a+b)/2)  #la integral sera la suma de las diviciones rectangulares \n",
    "        \n",
    "    end \n",
    "    return integral # pedimos que devuelva el valor de la integral\n",
    "end"
   ]
  },
  {
   "cell_type": "code",
   "execution_count": 6,
   "metadata": {
    "collapsed": false
   },
   "outputs": [
    {
     "data": {
      "text/plain": [
       "49.99999999999999"
      ]
     },
     "execution_count": 6,
     "metadata": {},
     "output_type": "execute_result"
    }
   ],
   "source": [
    "rect(x->x,0,10,120)   # evaluamos la funcion x en el intervalo de 0 a 10."
   ]
  },
  {
   "cell_type": "markdown",
   "metadata": {},
   "source": [
    "# MÉTODO DEL TRAPECIO"
   ]
  },
  {
   "cell_type": "code",
   "execution_count": 7,
   "metadata": {
    "collapsed": false
   },
   "outputs": [
    {
     "data": {
      "text/plain": [
       "trap (generic function with 1 method)"
      ]
     },
     "execution_count": 7,
     "metadata": {},
     "output_type": "execute_result"
    }
   ],
   "source": [
    "function trap(f,a,b,N)      #definimos una función que pide como entradas una uncion, un inicio de intervalo, final y diviciones de este.\n",
    "    x=linspace(a,b,N)      #Usando una función linspace damos una arreglo de valores iniciando en a y terminando en b dividido en N espacios.\n",
    "    integral=0             #comenzamos el valor de la integral en 0 \n",
    "    \n",
    "    for i in 1:N-1      #usamos un ciclo for que cambia los valores de nuestra aproximación al área \n",
    "        a=x[i]           #declaramos una a=x[i] \n",
    "        b=x[i+1]         #usamos una b=x[i+1] para representar el siguiente paso de a.\n",
    "        \n",
    "        integral=integral+(b-a)*((f(a)+f(b))/2)\n",
    "    end\n",
    "    return integral\n",
    "end"
   ]
  },
  {
   "cell_type": "code",
   "execution_count": 13,
   "metadata": {
    "collapsed": false
   },
   "outputs": [
    {
     "data": {
      "text/plain": [
       "50.0"
      ]
     },
     "execution_count": 13,
     "metadata": {},
     "output_type": "execute_result"
    }
   ],
   "source": [
    "trap(x->x,0,10,48)"
   ]
  }
 ],
 "metadata": {
  "kernelspec": {
   "display_name": "Julia 0.6.0",
   "language": "julia",
   "name": "julia-0.6"
  },
  "language_info": {
   "file_extension": ".jl",
   "mimetype": "application/julia",
   "name": "julia",
   "version": "0.6.0"
  }
 },
 "nbformat": 4,
 "nbformat_minor": 2
}
