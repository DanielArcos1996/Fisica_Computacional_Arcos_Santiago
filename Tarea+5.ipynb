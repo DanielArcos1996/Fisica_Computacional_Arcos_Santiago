{
 "cells": [
  {
   "cell_type": "markdown",
   "metadata": {},
   "source": [
    "### Método de integración de Riemann\n"
   ]
  },
  {
   "cell_type": "markdown",
   "metadata": {},
   "source": [
    "Se define un intervalo $[a,b]$ donde la función a integrar es continua y se hace una partición a este intervalo definido como \n",
    "$P=[a=x0<x1<x2<...<xn-1<xn=b]$, se dice que la función es integrable si existe $I$ en los reales tal que, para todo real positivo $epsilon$ existe una $delta$>0 tal que si $P$ es una partición de $[a,b]$ con $||P||<delta$ y $S(P,f)$ cualquier suma de Riemann entonces $|S(P,f)-I|<epsilon$\n",
    "Lo anterior nos da como resultado que $$\\int_a^b f(x)\\,dx \\approx (b-a) \\, f\\left(\\frac{a+b}{2}\\right)$$\n",
    "lo cual es una suma de Riemann para la integral, esta siendo definida por el límite $b-a \\to 0$\n",
    "este método funciona bien para intervalos pequeños.\n",
    "\n",
    "Para caso práctico la integral de Riemann se basa en partir una región de integración en pequeños rectángulos y la solución de la integral se ve como la multiplicación de la longitud total del intervalo $(b-a)$ por la función a integrar evaluada en $f\\left(\\frac{a+b}{2}\\right)$.\n",
    "\n"
   ]
  },
  {
   "cell_type": "markdown",
   "metadata": {
    "collapsed": true
   },
   "source": [
    "### Método del trapecio\n"
   ]
  },
  {
   "cell_type": "markdown",
   "metadata": {},
   "source": [
    "El método del trapecio es en esencia parecido al método de Riemann sólo que en lugar de querer formar rectángulos partimos un intervalo $[a,b]$ en trapecios, básicamente da como resultado que la integral de la función es la suma de las áreas encerradas en trapecios del intervalo $[a,b]$.\n",
    "La expresión se ve como: $$\\int_a^b f(x)\\,dx \\approx (b-a) \\, (\\frac{f(a)+f(b)}{2})$$\n",
    "\n"
   ]
  },
  {
   "cell_type": "code",
   "execution_count": null,
   "metadata": {
    "collapsed": true
   },
   "outputs": [],
   "source": []
  }
 ],
 "metadata": {
  "kernelspec": {
   "display_name": "Julia 0.6.0",
   "language": "julia",
   "name": "julia-0.6"
  },
  "language_info": {
   "file_extension": ".jl",
   "mimetype": "application/julia",
   "name": "julia",
   "version": "0.6.0"
  }
 },
 "nbformat": 4,
 "nbformat_minor": 2
}
