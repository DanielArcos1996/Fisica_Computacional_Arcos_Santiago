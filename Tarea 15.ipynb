{
 "cells": [
  {
   "cell_type": "code",
   "execution_count": 21,
   "metadata": {},
   "outputs": [
    {
     "name": "stderr",
     "output_type": "stream",
     "text": [
      "WARNING: replacing module herramientas\n"
     ]
    },
    {
     "data": {
      "text/plain": [
       "herramientas"
      ]
     },
     "execution_count": 21,
     "metadata": {},
     "output_type": "execute_result"
    }
   ],
   "source": [
    "__precompile__() # Este comando es para que julia precompile el paquete\n",
    "\n",
    "module herramientas\n",
    "\n",
    "export newton\n",
    "\n",
    "\"\"\"documentación del método de Newton\"\"\"\n",
    "function newton(f,df,x0)\n",
    "    x=x0\n",
    "    for i in 1:20\n",
    "       x=x-f(x)/df(x) \n",
    "    end\n",
    "    return x\n",
    "end\n",
    "\n",
    "end"
   ]
  },
  {
   "cell_type": "code",
   "execution_count": 22,
   "metadata": {},
   "outputs": [
    {
     "data": {
      "text/plain": [
       "1.414213562373095"
      ]
     },
     "execution_count": 22,
     "metadata": {},
     "output_type": "execute_result"
    }
   ],
   "source": [
    "herramientas.newton(x->x^2-2,x->2*x,1)\n"
   ]
  },
  {
   "cell_type": "code",
   "execution_count": 18,
   "metadata": {},
   "outputs": [
    {
     "name": "stderr",
     "output_type": "stream",
     "text": [
      "WARNING: replacing module herramientas\n"
     ]
    },
    {
     "data": {
      "text/plain": [
       "herramientas"
      ]
     },
     "execution_count": 18,
     "metadata": {},
     "output_type": "execute_result"
    }
   ],
   "source": [
    "__precompile__() # Este comando es para que julia precompile el paquete\n",
    "\n",
    "module herramientas\n",
    "\n",
    "export newton2\n",
    "\n",
    "\"\"\"documentación del segundo método de Newton\"\"\"\n",
    "\n",
    "function newton2(f,xi,h,error=1e-10) #función calculadora de raices \n",
    "    #usando el método de Newton nuevamente, pero ahora sólo tomando las raices hasta \n",
    "    #cierto valor denotado por \"error\".\n",
    "    df=f(xi+h)-f(xi)\n",
    "    d=error+1\n",
    "    while error<d\n",
    "        xi=xi-f(xi)/(df)\n",
    "        d=(f(xi)^2)^(1/2)\n",
    "    end\n",
    "    return xi #Regresa la raiz.\n",
    "end\n",
    "end"
   ]
  },
  {
   "cell_type": "code",
   "execution_count": 19,
   "metadata": {},
   "outputs": [
    {
     "data": {
      "text/plain": [
       "3.141592653529164"
      ]
     },
     "execution_count": 19,
     "metadata": {},
     "output_type": "execute_result"
    }
   ],
   "source": [
    "herramientas.newton2(sin,2,0.9)\n"
   ]
  },
  {
   "cell_type": "code",
   "execution_count": 23,
   "metadata": {},
   "outputs": [
    {
     "name": "stderr",
     "output_type": "stream",
     "text": [
      "WARNING: replacing module herramientas\n"
     ]
    },
    {
     "data": {
      "text/plain": [
       "herramientas"
      ]
     },
     "execution_count": 23,
     "metadata": {},
     "output_type": "execute_result"
    }
   ],
   "source": [
    "__precompile__() # Este comando es para que julia precompile el paquete\n",
    "\n",
    "module herramientas\n",
    "\n",
    "export newton3\n",
    "\n",
    "\"\"\"documentación del tercer método de Newton\"\"\"\n",
    "\n",
    "function newton3(f,xa,xb,h,error=1e-10) #Se crea una rutina donde en lugar de \n",
    "    #tomar una sóla condición inicial, reciba un rango de condiciones iniciales.\n",
    "    raices=[] #Se define el vector raices.\n",
    "    for i in linspace(xa,xb,200) #Se realiza la iteración 200 veces en el intervalo inicial.\n",
    "        \n",
    "        d=error+1\n",
    "        while error<d\n",
    "            i=i-f(i)/(f(i+h)-f(i))\n",
    "            d=(f(i)^2)^(1/2)\n",
    "        end\n",
    "     \n",
    "        push!(raices,i) #Guarda las raices en el vector definido raices.\n",
    "    end\n",
    "    return raices #Devuelve el vector.\n",
    "end\n",
    "end"
   ]
  },
  {
   "cell_type": "code",
   "execution_count": 24,
   "metadata": {},
   "outputs": [
    {
     "data": {
      "text/plain": [
       "200-element Array{Any,1}:\n",
       "    -6.28319\n",
       "    -9.42478\n",
       "    -9.42478\n",
       "    -9.42478\n",
       "     3.14159\n",
       "   -12.5664 \n",
       "   -15.708  \n",
       "   -18.8496 \n",
       "   -84.823  \n",
       "   -31.4159 \n",
       "   -53.4071 \n",
       "  -144.513  \n",
       " -5353.27   \n",
       "     ⋮      \n",
       "     3.14159\n",
       "     3.14159\n",
       "     3.14159\n",
       "     3.14159\n",
       "     3.14159\n",
       "     3.14159\n",
       "     3.14159\n",
       "     3.14159\n",
       "     3.14159\n",
       "     3.14159\n",
       "     3.14159\n",
       "     3.14159"
      ]
     },
     "execution_count": 24,
     "metadata": {},
     "output_type": "execute_result"
    }
   ],
   "source": [
    "herramientas.newton3(sin,1.0,3.0,0.9)\n"
   ]
  },
  {
   "cell_type": "code",
   "execution_count": 25,
   "metadata": {},
   "outputs": [
    {
     "name": "stderr",
     "output_type": "stream",
     "text": [
      "WARNING: replacing module herramientas\n"
     ]
    },
    {
     "data": {
      "text/plain": [
       "herramientas"
      ]
     },
     "execution_count": 25,
     "metadata": {},
     "output_type": "execute_result"
    }
   ],
   "source": [
    "__precompile__() # Este comando es para que julia precompile el paquete\n",
    "\n",
    "module herramientas\n",
    "\n",
    "export trapecio\n",
    "\n",
    "\"\"\"documentación del método del Trapecio\"\"\"\n",
    "\n",
    "function trapecio(f,a,b,n) #función calculadora de integrales con método del trapecio\n",
    "    x=a\n",
    "    R=0\n",
    "    while x<b\n",
    "        x=x+((b-a)/n)\n",
    "        R += (b-a)*(f(x)+f(x+(b-a)/n))/2n\n",
    "    end\n",
    "   return R #Se regresa el valor de la integral.\n",
    "end\n",
    "end"
   ]
  },
  {
   "cell_type": "code",
   "execution_count": 34,
   "metadata": {},
   "outputs": [
    {
     "data": {
      "text/plain": [
       "4.5089999999999595"
      ]
     },
     "execution_count": 34,
     "metadata": {},
     "output_type": "execute_result"
    }
   ],
   "source": [
    "herramientas.trapecio(x->x,0,3,1000)\n"
   ]
  },
  {
   "cell_type": "code",
   "execution_count": 37,
   "metadata": {},
   "outputs": [
    {
     "name": "stderr",
     "output_type": "stream",
     "text": [
      "WARNING: replacing module herramientas\n"
     ]
    },
    {
     "data": {
      "text/plain": [
       "herramientas"
      ]
     },
     "execution_count": 37,
     "metadata": {},
     "output_type": "execute_result"
    }
   ],
   "source": [
    "__precompile__() # Este comando es para que julia precompile el paquete\n",
    "\n",
    "module herramientas\n",
    "\n",
    "export rectangulo\n",
    "\n",
    "\"\"\"documentación del método del Rectángulo\"\"\"\n",
    "\n",
    "\n",
    "function rectangulo(f,a,b,n) #función que calcule una integral usando el método del rectángulo tomando una función, el intervalo de integración, y el número de particiones del intervalo.\n",
    "    x=a\n",
    "    R=0\n",
    "    while x<b\n",
    "        x=x+((b-a)/n)\n",
    "        R += ((b-a)/n)*f(x+((b-a)/2n))\n",
    "    end\n",
    "   return R #Se regresa el valor de la integral.\n",
    "end\n",
    "end"
   ]
  },
  {
   "cell_type": "code",
   "execution_count": 38,
   "metadata": {},
   "outputs": [
    {
     "data": {
      "text/plain": [
       "4.50899999999996"
      ]
     },
     "execution_count": 38,
     "metadata": {},
     "output_type": "execute_result"
    }
   ],
   "source": [
    "herramientas.rectangulo(x->x,0,3,1000)\n"
   ]
  },
  {
   "cell_type": "code",
   "execution_count": 40,
   "metadata": {},
   "outputs": [
    {
     "name": "stderr",
     "output_type": "stream",
     "text": [
      "WARNING: replacing module herramientas\n"
     ]
    },
    {
     "data": {
      "text/plain": [
       "herramientas"
      ]
     },
     "execution_count": 40,
     "metadata": {},
     "output_type": "execute_result"
    }
   ],
   "source": [
    "__precompile__() # Este comando es para que julia precompile el paquete\n",
    "\n",
    "module herramientas\n",
    "\n",
    "export simpson\n",
    "\n",
    "\"\"\"documentación del método de Simpson\"\"\"\n",
    "\n",
    "function simpson(f,a,b,n) #función de integrales usando Simpson que toma una función, el intervalo de integración, y el número de particiones del intervalo.\n",
    "    x = a\n",
    "    R = 0\n",
    "    while x < b\n",
    "        x = x + ((b-a) / n)\n",
    "        R += (b - a) * (f(x) + 4 * f(x + (b-a) / 2n) + f(x + (b-a)/n)) / 6n\n",
    "    end\n",
    "   return R #Se regresa el valor de la integral.\n",
    "end\n",
    "end"
   ]
  },
  {
   "cell_type": "code",
   "execution_count": 41,
   "metadata": {},
   "outputs": [
    {
     "data": {
      "text/plain": [
       "4.50899999999996"
      ]
     },
     "execution_count": 41,
     "metadata": {},
     "output_type": "execute_result"
    }
   ],
   "source": [
    "herramientas.simpson(x->x,0,3,1000)\n"
   ]
  },
  {
   "cell_type": "code",
   "execution_count": 42,
   "metadata": {},
   "outputs": [
    {
     "name": "stderr",
     "output_type": "stream",
     "text": [
      "WARNING: replacing module herramientas\n"
     ]
    },
    {
     "data": {
      "text/plain": [
       "herramientas"
      ]
     },
     "execution_count": 42,
     "metadata": {},
     "output_type": "execute_result"
    }
   ],
   "source": [
    "__precompile__() # Este comando es para que julia precompile el paquete\n",
    "\n",
    "module herramientas\n",
    "\n",
    "export euler\n",
    "\n",
    "\"\"\"documentación del método de Euler vectorial\"\"\"\n",
    "\n",
    "function euler(f,list,x0) #función que implementa el método de Euler,toma como entradas una función, una lista y el valor inicial x0.\n",
    "     x = x0 #Se asigna a x el valor inicial x0.\n",
    "     h = list[2]-list[1] #Se escribe el paso de h.\n",
    "     listx = [] #Se crea un vector vacío.\n",
    "     for i in 2:length(list)\n",
    "        t = i*h #Se calculan los valores de t.\n",
    "        x = x + f(x,t)*h #Se realiza la operación del método de Euler.\n",
    "        push!(listx,x) #Se guarda en listx los valores de x que se obtienen del método de Euler.\n",
    "     end\n",
    "     return listx #Se regresa la lista de x.\n",
    "end\n",
    "end"
   ]
  },
  {
   "cell_type": "code",
   "execution_count": 47,
   "metadata": {},
   "outputs": [
    {
     "data": {
      "image/png": "[encoded data removed]",
      "text/plain": [
       "PyPlot.Figure(PyObject <matplotlib.figure.Figure object at 0x7f2d9454c850>)"
      ]
     },
     "metadata": {},
     "output_type": "display_data"
    },
    {
     "name": "stderr",
     "output_type": "stream",
     "text": [
      "WARNING: Method definition h(Any, Any) in module Main at In[46]:2 overwritten at In[47]:2.\n"
     ]
    },
    {
     "data": {
      "text/plain": [
       "1-element Array{Any,1}:\n",
       " PyObject <matplotlib.lines.Line2D object at 0x7f2d946c05d0>"
      ]
     },
     "execution_count": 47,
     "metadata": {},
     "output_type": "execute_result"
    }
   ],
   "source": [
    "using PyPlot\n",
    "h(x,t) = [x[2],-x[1]-x[2]] #función del oscilador armónico.\n",
    "list = 0:0.01:500 #lista para euler.\n",
    "R = herramientas.euler(h,list,[1,0]) #Se crea un vector particular para realizar el método de \n",
    "#Euler,con condiciones iniciales x(0)=1, x'(0)=1.\n",
    "listx1 = map(x->x[1],R) \n",
    "listx2 = map(x->x[2],R) \n",
    "xlabel(\"x\");ylabel(\"u\")\n",
    "plot(listx1,listx2) \n"
   ]
  },
  {
   "cell_type": "code",
   "execution_count": 54,
   "metadata": {},
   "outputs": [
    {
     "name": "stderr",
     "output_type": "stream",
     "text": [
      "WARNING: replacing module herramientas\n"
     ]
    },
    {
     "data": {
      "text/plain": [
       "herramientas"
      ]
     },
     "execution_count": 54,
     "metadata": {},
     "output_type": "execute_result"
    }
   ],
   "source": [
    "__precompile__() # Este comando es para que julia precompile el paquete\n",
    "\n",
    "module herramientas\n",
    "\n",
    "export eulerimplicito\n",
    "\n",
    "\"\"\"documentación del método implícito de Euler\"\"\"\n",
    "\n",
    "function eulerimplicito(f,x0,t0,tf,h) #función para obtener la solución aproximada de una ecuación diferencial con euler toma una función f, posición  inicial, tiempo, valor final de t, y el valor de h.\n",
    "    listt = [] #Se crea un vector cuyo valor inicial es t0 y valor final tf donde la separación entre  sus valores está dada por el valor de h.\n",
    "    listx = [] #Se crea un vector en donde se guardan los valores xk del método implícito de Euler.\n",
    "    xk = x0\n",
    "    \n",
    "    for i in t0:h:tf\n",
    "        push!(listt,i) \n",
    "    end\n",
    "\n",
    "    for j in 1:length(listt) \n",
    "        push!(listx,xk) #Se guardan los valores xk en listx.\n",
    "        g = - f(listt[j], xk)*h #Se define una función g que se usará en el método implícito.\n",
    "        dg = 1 - f(listt[j], xk + h) + f(listt[j],xk) #Se escribe la derivada de la función g.\n",
    "        xk = xk - g/dg #Se realiza la operación que determina los valores xk\n",
    "    end\n",
    "    \n",
    "    return listt, listx #Se regresan la listas listt y listx.\n",
    "end\n",
    "end "
   ]
  },
  {
   "cell_type": "code",
   "execution_count": 55,
   "metadata": {},
   "outputs": [
    {
     "data": {
      "image/png": "[encoded data removed]",
      "text/plain": [
       "PyPlot.Figure(PyObject <matplotlib.figure.Figure object at 0x7f2d9444f850>)"
      ]
     },
     "metadata": {},
     "output_type": "display_data"
    },
    {
     "name": "stderr",
     "output_type": "stream",
     "text": [
      "WARNING: Method definition g(Any, Any) in module Main at In[52]:1 overwritten at In[55]:1.\n"
     ]
    },
    {
     "data": {
      "text/plain": [
       "PyObject Text(0.5,24,u'tiempo')"
      ]
     },
     "execution_count": 55,
     "metadata": {},
     "output_type": "execute_result"
    }
   ],
   "source": [
    "g(t,x)= -x\n",
    "herramientas.eulerimplicito(g,1,0,10,0.1)\n",
    "#Se grafica la solución usando el método implícito y también se grafica la solución exacta.\n",
    "t = []\n",
    "x = []\n",
    "for i in 0:50\n",
    "    push!(t,10*i/50)\n",
    "    push!(x,exp(-t[i+1]))\n",
    "end\n",
    "plot(t,x)\n",
    "listt,listx = herramientas.eulerimplicito(g,1,0,10,0.1)\n",
    "plot(listt,listx)\n",
    "ylabel(\"posición\")\n",
    "xlabel(\"tiempo\")\n",
    "\n"
   ]
  },
  {
   "cell_type": "code",
   "execution_count": 56,
   "metadata": {},
   "outputs": [
    {
     "name": "stderr",
     "output_type": "stream",
     "text": [
      "WARNING: replacing module herramientas\n"
     ]
    },
    {
     "data": {
      "text/plain": [
       "herramientas"
      ]
     },
     "execution_count": 56,
     "metadata": {},
     "output_type": "execute_result"
    }
   ],
   "source": [
    "__precompile__() # Este comando es para que julia precompile el paquete\n",
    "\n",
    "module herramientas\n",
    "\n",
    "export RK4\n",
    "\n",
    "\"\"\"documentación del método de Runge-Kutta de orden 4 \"\"\"\n",
    "\n",
    "function RK4(f,list,x0) #función que usa Runge-Kutta de orden 4 , obtener la solución aproximada de una ecuación diferencial. \n",
    "    \n",
    "    x = x0\n",
    "    h = list[2]-list[1] #Se calcula el tamaño del paso.\n",
    "    listx = [] #Se crea un vector en donde se guardan los valores xk del método de Runge.\n",
    "    push!(listx,x) #Se  guardan la los valores de x en listx.\n",
    "    \n",
    "        for i in 2:length(list) #Se realiza un for donde se da un intervalo a i cuyo tamaño es el\n",
    "        #de la lista t.\n",
    "            t = i*h\n",
    "            #Se definen funciones necesarias para implementar el método de Runge-Kutta de orden 4.\n",
    "            k1 = f(x,t)\n",
    "            k2 = f(x + ((h/2) * k1),t + h/2)\n",
    "            k3 = f(x + ((h/2) * k2),t + h/2)\n",
    "            k4 = f(x + h * k3,t + h)\n",
    "            x = x + (h/6) * (k1 + 2 * k2 + 2 * k3 + k4)#Se realiza la operación que determina los \n",
    "            #valores xk.\n",
    "            push!(listx,x) #Se guarda el valor de xk en la lista x.\n",
    "        end\n",
    "     return listx #Se regresa la lista listx.\n",
    "end\n",
    "\n",
    "end"
   ]
  },
  {
   "cell_type": "code",
   "execution_count": 57,
   "metadata": {},
   "outputs": [
    {
     "data": {
      "image/png": "[encoded data removed]",
      "text/plain": [
       "PyPlot.Figure(PyObject <matplotlib.figure.Figure object at 0x7f2d9442e150>)"
      ]
     },
     "metadata": {},
     "output_type": "display_data"
    },
    {
     "name": "stderr",
     "output_type": "stream",
     "text": [
      "WARNING: Method definition h(Any, Any) in module Main at In[49]:2 overwritten at In[57]:1.\n"
     ]
    }
   ],
   "source": [
    "h(x,t) = [x[2],-x[1]-x[2]] #Se define la función asociada al sistema de ecuaciones del oscilador armónico amortiguado.\n",
    "list1 = 0:0.1:200 \n",
    "herramientas.RK4(h,list1,[1,0]) #definimos condiciones iniciales x(0)=1, x'(0)=1\n",
    "R1 = herramientas.RK4(h,list1,[1,0]) #definimos un vector donde usando \n",
    "listx3 = map(x->x[1],R1) #Guarda  los elementos x[1] de cada elemeno de vec1 en listx3.\n",
    "listx4 = map(x->x[2],R1) #Guarda  los elementos x[2] de cada elemeno de vec1 en listx4.\n",
    "xlabel(\"x\");ylabel(\"u\")\n",
    "plot(listx3,listx4) #Se grafica posición contra velocidad usando Runge-Kutta.\n",
    "legend()"
   ]
  }
 ],
 "metadata": {
  "kernelspec": {
   "display_name": "Julia 0.5.2",
   "language": "julia",
   "name": "julia-0.5"
  },
  "language_info": {
   "file_extension": ".jl",
   "mimetype": "application/julia",
   "name": "julia",
   "version": "0.5.2"
  }
 },
 "nbformat": 4,
 "nbformat_minor": 2
}
