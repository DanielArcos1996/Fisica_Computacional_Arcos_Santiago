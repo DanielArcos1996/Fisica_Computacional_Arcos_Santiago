{
 "cells": [
  {
   "cell_type": "markdown",
   "metadata": {},
   "source": [
    "__Ejercicio 2__. Utiliza tu función `derivadaNumerica` para\n",
    "calcular la derivada de la función $\\cos$ en un punto\n",
    "$x_0\\in[0,1)$. Compara tu resultado con el que indica el\n",
    "cálculo exacto. Utiliza valores de $h$ cada vez más pequeños, grafica el comportamiento de la derivada y muestra como converge al valor exacto conforme tomamos $h$'s cada vez más pequeño. Para ello pueden graficar el resultado de la derivada numérica contra $1/h$.\n",
    "Observa el resultado de la aproximación y comenta. ¿El error es del orden de $h$?, para ver esto grafica el error relativo a $f'(x_0)$:\n",
    "$$\\epsilon=\\left|\\frac{\\Delta f(x_0,h)/h-f'(x_0)}{f'(x_0)}\\right|,$$\n",
    "respecto a $h$.\n",
    "$$\\Delta f(x,h)=f(x+h)-f(x)$$."
   ]
  },
  {
   "cell_type": "code",
   "execution_count": 8,
   "metadata": {
    "collapsed": false
   },
   "outputs": [
    {
     "data": {
      "text/plain": [
       "derivada (generic function with 1 method)"
      ]
     },
     "execution_count": 8,
     "metadata": {},
     "output_type": "execute_result"
    }
   ],
   "source": [
    "using Calculus\n",
    "function derivada(f,x,h)   #definimos una función que recibe una función f, un punto donde se evalua la derivada,un h que es un cambio pequeño, que tiende a cero.\n",
    "   return f1=(f(x+h)-f(x))/h  #pedimos que la función f1 sea el resultado de aplicar la función f a un (x+h)que es un cambio pequeño en el punto inicial X (tecnicamente aplicamos la definicion de derivad, sin hacer que h tienda a cero.)\n",
    "end "
   ]
  },
  {
   "cell_type": "code",
   "execution_count": 9,
   "metadata": {
    "collapsed": false
   },
   "outputs": [
    {
     "data": {
      "text/plain": [
       "0.0:0.001001001001001001:1.0"
      ]
     },
     "execution_count": 9,
     "metadata": {},
     "output_type": "execute_result"
    }
   ],
   "source": [
    "x0=linspace(0,1,1000)"
   ]
  },
  {
   "cell_type": "code",
   "execution_count": 10,
   "metadata": {
    "collapsed": false
   },
   "outputs": [
    {
     "data": {
      "text/plain": [
       "compara (generic function with 1 method)"
      ]
     },
     "execution_count": 10,
     "metadata": {},
     "output_type": "execute_result"
    }
   ],
   "source": [
    "function compara(x0,f)\n",
    "    N=10\n",
    "    q=[]\n",
    "    w=[]\n",
    "    e=[]\n",
    "    r=[]\n",
    "    R=rand(x0)\n",
    "    for i in 1:N\n",
    "        h=1/(10*(i^2))\n",
    "        h1=1/h\n",
    "    D=derivada(f,R,h)\n",
    "    b=f'(R)\n",
    "    error=(D-b)/b\n",
    "    push!(q,D)\n",
    "    push!(w,b)\n",
    "    push!(e,h1)\n",
    "    push!(r,error)\n",
    "    end \n",
    "    scatter(e, q, color=\"red\") #voy a imprimir estos valores\n",
    "    scatter(e, w, color=\"green\")\n",
    "    scatter(e,r,color=\"gold\")\n",
    "end"
   ]
  },
  {
   "cell_type": "code",
   "execution_count": 11,
   "metadata": {
    "collapsed": false
   },
   "outputs": [],
   "source": [
    "using PyPlot"
   ]
  },
  {
   "cell_type": "code",
   "execution_count": 12,
   "metadata": {
    "collapsed": false
   },
   "outputs": [
    {
     "data": {
      "image/png": "[encoded data removed]",
      "text/plain": [
       "PyPlot.Figure(PyObject <matplotlib.figure.Figure object at 0x7fa4620711d0>)"
      ]
     },
     "metadata": {},
     "output_type": "display_data"
    },
    {
     "data": {
      "text/plain": [
       "PyObject <matplotlib.collections.PathCollection object at 0x7fa459acd050>"
      ]
     },
     "execution_count": 12,
     "metadata": {},
     "output_type": "execute_result"
    }
   ],
   "source": [
    "compara(x0,sin)"
   ]
  },
  {
   "cell_type": "markdown",
   "metadata": {},
   "source": [
    "__Ejercicio 4__. Implementa la _derivada\n",
    "simétrica_ en `Julia` como `derivada_Simetrica` y repite la\n",
    "comparativa que realizaste en el __ejercicio 2__.\n",
    "$$\n",
    "f'(x) = \\lim_{h\\to0}\\frac{f(x+h)-f(x-h)}{2h}.\n",
    "$$"
   ]
  },
  {
   "cell_type": "code",
   "execution_count": 61,
   "metadata": {
    "collapsed": false
   },
   "outputs": [
    {
     "data": {
      "text/plain": [
       "derivadasimetrica (generic function with 1 method)"
      ]
     },
     "execution_count": 61,
     "metadata": {},
     "output_type": "execute_result"
    }
   ],
   "source": [
    "function derivadasimetrica(f,x,h)   #definimos una función que recibe una función f, un punto donde se evalua la derivada,un h que es un cambio pequeño, que tiende a cero.\n",
    "   return f2=(f(x+h)-f(x-h))/(2*h)  #pedimos que la función f1 sea el resultado de aplicar la función f a un (x+h)que es un cambio pequeño en el punto inicial X (tecnicamente aplicamos la definicion de derivad, sin hacer que h tienda a cero.)\n",
    "end\n"
   ]
  },
  {
   "cell_type": "code",
   "execution_count": 64,
   "metadata": {
    "collapsed": false
   },
   "outputs": [
    {
     "data": {
      "text/plain": [
       "comparasimetrica (generic function with 1 method)"
      ]
     },
     "execution_count": 64,
     "metadata": {},
     "output_type": "execute_result"
    }
   ],
   "source": [
    "function comparasimetrica(x0,f)\n",
    "    N=10\n",
    "    A=[]\n",
    "    B=[]\n",
    "    C=[]\n",
    "    d=[]\n",
    "    for i in 1:N\n",
    "        h=1/(10*(i^2))\n",
    "    D=derivadasimetrica(f,x0,h)\n",
    "    b=f'(x0)\n",
    "    error=(D-b)\n",
    "    push!(A,b)\n",
    "    push!(B,D)\n",
    "    push!(C,i)\n",
    "    push!(d,error)\n",
    "    end \n",
    "    scatter(C, A, color=\"red\") #voy a imprimir estos valores\n",
    "    scatter(C, B, color=\"green\")\n",
    "end"
   ]
  },
  {
   "cell_type": "code",
   "execution_count": 65,
   "metadata": {
    "collapsed": false
   },
   "outputs": [
    {
     "data": {
      "image/png": "[encoded data removed]",
      "text/plain": [
       "PyPlot.Figure(PyObject <matplotlib.figure.Figure object at 0x7fa458a07f50>)"
      ]
     },
     "metadata": {},
     "output_type": "display_data"
    },
    {
     "data": {
      "text/plain": [
       "PyObject <matplotlib.collections.PathCollection object at 0x7fa45899c390>"
      ]
     },
     "execution_count": 65,
     "metadata": {},
     "output_type": "execute_result"
    }
   ],
   "source": [
    "comparasimetrica(1,sin)"
   ]
  },
  {
   "cell_type": "code",
   "execution_count": null,
   "metadata": {
    "collapsed": true
   },
   "outputs": [],
   "source": []
  }
 ],
 "metadata": {
  "kernelspec": {
   "display_name": "Julia 0.6.0",
   "language": "julia",
   "name": "julia-0.6"
  },
  "language_info": {
   "file_extension": ".jl",
   "mimetype": "application/julia",
   "name": "julia",
   "version": "0.6.0"
  }
 },
 "nbformat": 4,
 "nbformat_minor": 2
}
