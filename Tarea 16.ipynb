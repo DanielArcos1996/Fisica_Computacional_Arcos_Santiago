{
 "cells": [
  {
   "cell_type": "markdown",
   "metadata": {},
   "source": [
    "Tarea 16 (Martes 24): Demostrar que si $A=wBw^{-1}$, es decir $A$ y $B$ similares, que $f(A)=wf(B)w^{-1}$, donde $f$ es una función analítica. Entregar en físico en clase."
   ]
  },
  {
   "cell_type": "markdown",
   "metadata": {},
   "source": [
    "Dada una matriz B de la forma\n",
    "$$ B = diag(\\lambda_{1},...,\\lambda_{k}) $$\n",
    "Con\n",
    "$$  B^{n} = diag(\\lambda^{n}_{1},...,\\lambda^{n}_{k}) $$\n",
    "Una función aplicada a B se escribe con\n",
    "$$f(B)= diag(\\sum_{n} C_{n}\\lambda^{n}_{1},..., C_{n}\\lambda^{n}_{k}) $$\n",
    "Donde los Cn son la operación aplicada a los $\\lambda_{k}$\n",
    "\n",
    "$$f(B) = diag(f(\\lambda_{1}),...,f(\\lambda_{k}))$$\n",
    "Con\n",
    "$$A = WBW^{-1}$$\n",
    "Con W siendo matriz de eigenvectores de A.\n",
    "Si aplicamos una función f en A\n",
    "$$f(A) = f(WBW^{-1})$$\n",
    "Entonces\n",
    "$$f(A) = f(WBW^{-1}) =W(diag(\\sum_{n} C_{n}\\lambda^{n}_{1},..., C_{n}\\lambda^{n}_{k}))W^{-1}=W(diag(f(\\lambda_{1}),...,f(\\lambda_{k})))W^{-1}= Wf(B)W^{-1} $$"
   ]
  }
 ],
 "metadata": {
  "kernelspec": {
   "display_name": "Julia 0.5.2",
   "language": "julia",
   "name": "julia-0.5"
  },
  "language_info": {
   "file_extension": ".jl",
   "mimetype": "application/julia",
   "name": "julia",
   "version": "0.5.2"
  }
 },
 "nbformat": 4,
 "nbformat_minor": 2
}
