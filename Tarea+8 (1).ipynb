{
 "cells": [
  {
   "cell_type": "markdown",
   "metadata": {},
   "source": [
    "__Ejercicio 1__. Escribe una función `derivadaNumerica` que\n",
    "reciba: una función $f\\colon \\mathbb{R}\\mapsto\\mathbb{R}$,\n",
    "un punto $x_0\\in\\mathbb{R}$ y un número $h\\in\\mathbb{R}$. Esta función deberá calcular una aproximación a la\n",
    "derivada utilizando la definición indicada arriba ignorando\n",
    "la parte del límite. Es decir, algo como: `derivada_numerica(f,x,h)`."
   ]
  },
  {
   "cell_type": "code",
   "execution_count": 16,
   "metadata": {
    "collapsed": false
   },
   "outputs": [
    {
     "data": {
      "text/plain": [
       "derivada (generic function with 1 method)"
      ]
     },
     "execution_count": 16,
     "metadata": {},
     "output_type": "execute_result"
    }
   ],
   "source": [
    "function derivada(f,x,h)   #definimos una función que recibe una función f, un punto donde se evalua la derivada,un h que es un cambio pequeño, que tiende a cero.\n",
    "   return f1=(f(x+h)-f(x))/h  #pedimos que la función f1 sea el resultado de aplicar la función f a un (x+h)que es un cambio pequeño en el punto inicial X (tecnicamente aplicamos la definicion de derivad, sin hacer que h tienda a cero.)\n",
    "end "
   ]
  },
  {
   "cell_type": "code",
   "execution_count": 17,
   "metadata": {
    "collapsed": false
   },
   "outputs": [
    {
     "data": {
      "text/plain": [
       "40.0000004674439"
      ]
     },
     "execution_count": 17,
     "metadata": {},
     "output_type": "execute_result"
    }
   ],
   "source": [
    "deriva(x->4*x^2,5,0.0000001) # usamos la función f(x)=4*x^2 en X=5 y le damos un valor pequeñin de h."
   ]
  },
  {
   "cell_type": "markdown",
   "metadata": {},
   "source": [
    "__Ejercicio 7:__ Explotar la relación $\\delta_h=\\Delta_h-\\Delta_{-h}$, donde $\\delta_h:f(x)\\mapsto f(x+h)-f(x-h)$, para encontrar cual es la función $\\theta$ que relaciona a $\\delta_h$ con el operador derivada exacta, es decir:\n",
    "$$\\delta_h=\\theta\\left(h\\left. \\frac{d}{d\\xi}\\right|_{\\xi=x}\\right).$$"
   ]
  },
  {
   "cell_type": "markdown",
   "metadata": {},
   "source": [
    "Usando lo visto en clase tenemos que.... \n",
    "$$(1)\\delta_h=\\Delta_h-\\Delta_{-h}$$ \n",
    "$$\\delta_hf(x)=f(x+h)-f(x-h)$$\n",
    "$$(2)\\Delta_h= exp(h\\left. \\frac{d}{d\\xi}\\right|_{\\xi=x})-1$$\n",
    "$$(3)\\Delta_-h= exp(-h\\left. \\frac{d}{d\\xi}\\right|_{\\xi=x})-1$$\n",
    "_Por lo que podemos esctibir a (1) como combinación de (2) y (3)_\n",
    "$$\\delta_h=(exp(h\\left. \\frac{d}{d\\xi}\\right|_{\\xi=x})-1)-(exp(-h\\left. \\frac{d}{d\\xi}\\right|_{\\xi=x})-1)$$\n",
    "$$(4)\\delta_h=exp(h\\left. \\frac{d}{d\\xi}\\right|_{\\xi=x})-exp(-h\\left. \\frac{d}{d\\xi}\\right|_{\\xi=x})$$\n",
    "_Pero sabemos que $sinh(x)=\\frac{exp(x)-exp(‑x)}{2}$ ,entonces,(4) se ve como: _\n",
    "$$\\delta_h=2sinh(h\\left. \\frac{d}{d\\xi}\\right|_{\\xi=x})$$\n",
    "_Por lo que podemos decir que  $\\theta=sinh$ ahora despejamos a $\\left. \\frac{d}{d\\xi}\\right|_{\\xi=x}$_\n",
    "$$\\left. \\frac{d}{d\\xi}\\right|_{\\xi=x}=\\frac{sinh^{-1}(\\frac{\\delta_h}{2})}{h}$$"
   ]
  },
  {
   "cell_type": "markdown",
   "metadata": {},
   "source": [
    "__Ejercicio 7:__Una vez que la encuentren, despejen $\\left. \\frac{d}{d\\xi}\\right|_{\\xi=x}$ y calculen la serie de Taylor de mánera similar a lo mostrado en las ecuaciones 3 y 4.\n"
   ]
  },
  {
   "cell_type": "markdown",
   "metadata": {},
   "source": [
    "_Sabemos que la serie de Taylor para el $sinh^{-1}(x)$ es:_\n",
    "$$sinh^{-1}(x)=\\sum_{n=0}^{\\infty}(\\frac{(-1)^{n}(2n)!}{2^{2n}(n!)^{2}})(\\frac{x^{2n+1}}{2n+1})$$\n",
    "_Aplicando a $\\left. \\frac{d}{d\\xi}\\right|_{\\xi=x}$ tenemos que..._\n",
    "$$ \\left. \\frac{d}{d\\xi}\\right|_{\\xi=x}=\\frac{1}{h}\\sum_{n=0}^{\\infty}(\\frac{(-1)^{n}(2n)!}{2^{2n}(n!)^{2}})(\\frac{(\\frac{\\delta_h}{2})^{2n+1}}{2n+1})$$\n",
    "_Por lo visto en clase, sabemos que..._\n",
    "$$\\frac{1}{h}\\sum_{n=0}^{\\infty}(\\frac{(-1)^{n}(2n)!}{2^{2n}(n!)^{2}})(\\frac{(\\frac{\\delta_h}{2})^{2n+1}}{2n+1})=\\frac{1}{h}\\sum_{n=0}^{\\infty}(\\frac{(-1)^{n}(2n)!}{2^{2n}(n!)^{2}})(\\frac{\\delta_h}{2})^{2n}$$\n",
    "_Entonces la serie de Taylor se ve como..._\n",
    "$$ \\left. \\frac{d}{d\\xi}\\right|_{\\xi=x}=\\frac{1}{h}\\sum_{n=0}^{\\infty}(\\frac{(-1)^{n}(2n)!}{2^{2n}(n!)^{2}})(\\frac{\\delta_h}{2})^{2n}$$"
   ]
  }
 ],
 "metadata": {
  "kernelspec": {
   "display_name": "Julia 0.6.0",
   "language": "julia",
   "name": "julia-0.6"
  },
  "language_info": {
   "file_extension": ".jl",
   "mimetype": "application/julia",
   "name": "julia",
   "version": "0.6.0"
  }
 },
 "nbformat": 4,
 "nbformat_minor": 2
}
