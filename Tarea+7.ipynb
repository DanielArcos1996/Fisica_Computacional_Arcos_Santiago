{
 "cells": [
  {
   "cell_type": "markdown",
   "metadata": {},
   "source": [
    "# Método de Simpson"
   ]
  },
  {
   "cell_type": "code",
   "execution_count": 25,
   "metadata": {
    "collapsed": false
   },
   "outputs": [
    {
     "data": {
      "text/plain": [
       "simpson (generic function with 1 method)"
      ]
     },
     "execution_count": 25,
     "metadata": {},
     "output_type": "execute_result"
    }
   ],
   "source": [
    "function simpson(f,a,b,N) #definimos una función que pide como entradas una funcion, un inicio de intervalo, final y diviciones de este.\n",
    "    x=linspace(a,b,N)  #Usando una función linspace damos una arreglo de valores iniciando en a y terminando en b dividido en N espacios.\n",
    "    s=0  #comenzamos el valor de la integral en 0 \n",
    "\n",
    "    \n",
    "    for i in 1:N-1 #usamos un ciclo for que cambia los valores de nuestra aproximación al área \n",
    "        a=x[i]  #declaramos una a=x[i]  \n",
    "        b=x[i+1]  #usamos una b=x[i+1] para representar el siguiente paso de a.\n",
    "        \n",
    "        s=s+(((b-a)/6)*(f(a)+4f((a+b)/2)+f(b)))\n",
    "    end \n",
    "    return s # pedimos que devuelva el valor de la integral\n",
    "end"
   ]
  },
  {
   "cell_type": "code",
   "execution_count": 26,
   "metadata": {
    "collapsed": false
   },
   "outputs": [
    {
     "data": {
      "text/plain": [
       "49.50000000000001"
      ]
     },
     "execution_count": 26,
     "metadata": {},
     "output_type": "execute_result"
    }
   ],
   "source": [
    "simpson(x->x,1,10,120)"
   ]
  },
  {
   "cell_type": "markdown",
   "metadata": {},
   "source": [
    "# Generamos varias funciones para el desarrollo de Lagrange"
   ]
  },
  {
   "cell_type": "code",
   "execution_count": 27,
   "metadata": {
    "collapsed": false
   },
   "outputs": [
    {
     "data": {
      "text/plain": [
       "lag (generic function with 1 method)"
      ]
     },
     "execution_count": 27,
     "metadata": {},
     "output_type": "execute_result"
    }
   ],
   "source": [
    "function lag(r,x,y,X)   #definimos una función que pide como entradas un numero de pasos (r), intervalo de valores en x,intervalo de valores en y, X es el punto donde evaluamos la funcion a interpolar.\n",
    "px = 0    #definimos un pX= 0 que es el valor inicial \n",
    "for i in range(r + 1)  #un for que toma r+1 pasos \n",
    "    l = y[i]  #definimos una l=una entrada y-iésima  \n",
    "    for j in range(r + 1) #un for que toma r+1 pasosque cambia en j\n",
    "        if j != i  #ponemos la condición de i diferente de j\n",
    "        l = l * ((X - x[j]) / (x[i] - x[j]))  #aplicamos la operación del método de lagrange\n",
    "        end\n",
    "    end\n",
    "        px = px + l\n",
    "end \n",
    "print(px)\n",
    "end "
   ]
  },
  {
   "cell_type": "code",
   "execution_count": 28,
   "metadata": {
    "collapsed": false
   },
   "outputs": [
    {
     "data": {
      "text/plain": [
       "5.1"
      ]
     },
     "execution_count": 28,
     "metadata": {},
     "output_type": "execute_result"
    }
   ],
   "source": [
    "r = 10\n",
    "x = (0,2,3,4,5,6,7)\n",
    "y = (10,-10,-4,0,5,20,-1)\n",
    "X = float(5.1)"
   ]
  },
  {
   "cell_type": "code",
   "execution_count": 29,
   "metadata": {
    "collapsed": false
   },
   "outputs": [
    {
     "ename": "LoadError",
     "evalue": "\u001b[91mMethodError: no method matching range(::Int64)\u001b[0m\nClosest candidates are:\n  range(::Real, \u001b[91m::Integer\u001b[39m) at range.jl:7\n  range(::Any, \u001b[91m::Integer\u001b[39m) at range.jl:11\n  range(::Real, \u001b[91m::AbstractFloat\u001b[39m, \u001b[91m::Integer\u001b[39m) at range.jl:75\n  ...\u001b[39m",
     "output_type": "error",
     "traceback": [
      "\u001b[91mMethodError: no method matching range(::Int64)\u001b[0m\nClosest candidates are:\n  range(::Real, \u001b[91m::Integer\u001b[39m) at range.jl:7\n  range(::Any, \u001b[91m::Integer\u001b[39m) at range.jl:11\n  range(::Real, \u001b[91m::AbstractFloat\u001b[39m, \u001b[91m::Integer\u001b[39m) at range.jl:75\n  ...\u001b[39m",
      "",
      "Stacktrace:",
      " [1] \u001b[1mlag\u001b[22m\u001b[22m\u001b[1m(\u001b[22m\u001b[22m::Int64, ::NTuple{7,Int64}, ::NTuple{7,Int64}, ::Float64\u001b[1m)\u001b[22m\u001b[22m at \u001b[1m./In[27]:3\u001b[22m\u001b[22m"
     ]
    }
   ],
   "source": [
    "lag(10,x,y,X)"
   ]
  },
  {
   "cell_type": "code",
   "execution_count": 30,
   "metadata": {
    "collapsed": false
   },
   "outputs": [
    {
     "data": {
      "text/plain": [
       "lagrange (generic function with 1 method)"
      ]
     },
     "execution_count": 30,
     "metadata": {},
     "output_type": "execute_result"
    }
   ],
   "source": [
    "function lagrange(fi,x,n)  #definimos una función que pide como entradas un numero de pasos (n),X es el punto donde evaluamos la funcion a interpolar, fi es la función a interpolar.\n",
    "    \n",
    "    f=zeros(n) # le damos a f un arreglo de ceros \n",
    "    i = 0    # definimos el valor de i \n",
    "    while i<n-1   #metemos todo a un ciclo que cambie el valor de i\n",
    "        L=1\n",
    "        j=0   # definimos el valor de j\n",
    "        while j<n-1  #metemos todo a un ciclo que cambie el valor de i\n",
    "            if i!=j   #ponemos la condición de i diferente de j\n",
    "                L=L*((xint-x[j])/(x[i]-x[j]))#aplicamos la operación del método de lagrange\n",
    "            end\n",
    "            j=j+1  #definimos el cambio de j de uno en uno\n",
    "        end\n",
    "        f=f+L*f(x(i))\n",
    "        i=i+1   #definimos el cambio de i de uno en uno\n",
    "    end\n",
    "    print(f(xi))\n",
    "end\n",
    "    "
   ]
  },
  {
   "cell_type": "code",
   "execution_count": 31,
   "metadata": {
    "collapsed": false
   },
   "outputs": [
    {
     "data": {
      "text/plain": [
       "Lj (generic function with 1 method)"
      ]
     },
     "execution_count": 31,
     "metadata": {},
     "output_type": "execute_result"
    }
   ],
   "source": [
    "function Lj(f,x,y,xint,N)  #definimos una función que pide como entradas un numero de pasos (N), intervalo de valores en x,intervalo de valores en y, Xint es el punto donde evaluamos la funcion a interpolar.\n",
    "    pX=zeros(N)   # le damos a f un arreglo de ceros\n",
    "    L=1  #damos un valor inicial a L que es la operación del método\n",
    "    xint=Sym(\"x\")  #usamos un valor simbolico de x\n",
    "    for i in 1:N    #un for que toma N pasos  en i\n",
    "        for j in 1:N   #un for que toma N pasos en j \n",
    "            if i!=j   #ponemos la condición de i diferente de j\n",
    "                L=L*((xint-x[j])/(x[i]-x[j])) #aplicamos la operación del método de lagrange\n",
    "            end\n",
    "        end \n",
    "        pX=pX+L*f(x[i])\n",
    "    end \n",
    "    print(pX)\n",
    "        \n",
    "end"
   ]
  },
  {
   "cell_type": "code",
   "execution_count": 32,
   "metadata": {
    "collapsed": false
   },
   "outputs": [
    {
     "data": {
      "text/plain": [
       "0.0:1.1111111111111112:10.0"
      ]
     },
     "execution_count": 32,
     "metadata": {},
     "output_type": "execute_result"
    }
   ],
   "source": [
    "x=linspace(0,2*pi,10)\n",
    "y=linspace(0,10,10)"
   ]
  },
  {
   "cell_type": "code",
   "execution_count": 33,
   "metadata": {
    "collapsed": false
   },
   "outputs": [
    {
     "ename": "LoadError",
     "evalue": "\u001b[91mUndefVarError: xint not defined\u001b[39m",
     "output_type": "error",
     "traceback": [
      "\u001b[91mUndefVarError: xint not defined\u001b[39m",
      ""
     ]
    }
   ],
   "source": [
    "Lj.(x->cos.(x),x,y,xint,10)"
   ]
  }
 ],
 "metadata": {
  "kernelspec": {
   "display_name": "Julia 0.6.0",
   "language": "julia",
   "name": "julia-0.6"
  },
  "language_info": {
   "file_extension": ".jl",
   "mimetype": "application/julia",
   "name": "julia",
   "version": "0.6.0"
  }
 },
 "nbformat": 4,
 "nbformat_minor": 2
}
