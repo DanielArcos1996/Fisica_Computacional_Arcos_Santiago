{
 "cells": [
  {
   "cell_type": "code",
   "execution_count": 6,
   "metadata": {
    "collapsed": false
   },
   "outputs": [
    {
     "data": {
      "text/plain": [
       "f (generic function with 1 method)"
      ]
     },
     "execution_count": 6,
     "metadata": {},
     "output_type": "execute_result"
    }
   ],
   "source": [
    "function f(x)\n",
    "    return x^3-x^2-x-1 #definimos una función polinomial\n",
    "end\n"
   ]
  },
  {
   "cell_type": "code",
   "execution_count": 7,
   "metadata": {
    "collapsed": false
   },
   "outputs": [
    {
     "data": {
      "text/plain": [
       "fp (generic function with 1 method)"
      ]
     },
     "execution_count": 7,
     "metadata": {},
     "output_type": "execute_result"
    }
   ],
   "source": [
    "function fp(x)\n",
    "    return 3*x^2-2*x-1 #definimos la derivada de nuestra función como fp\n",
    "end"
   ]
  },
  {
   "cell_type": "code",
   "execution_count": 8,
   "metadata": {
    "collapsed": false
   },
   "outputs": [
    {
     "data": {
      "text/plain": [
       "raiz (generic function with 1 method)"
      ]
     },
     "execution_count": 8,
     "metadata": {},
     "output_type": "execute_result"
    }
   ],
   "source": [
    "function raiz(x0,N)   #creamos la función raíz que utilice un valor inicial x0 y N numero de pasos\n",
    "    list=zeros(N)    #arreglo que guarda las aproximaciones a la raíz\n",
    "    \n",
    "    for i in 1:N    #usamos un ciclo for para acercarnos a la raíz\n",
    "        x0=x0-(f(x0)/fp(x0))   #este es el valor de la aproximacióm del método de newton \n",
    "    x=x0\n",
    "        list[i]= x0 \n",
    "    end \n",
    "    return list     #pedimos que se regrese el valor de la lista con los valores que tienden a la raíz\n",
    "end "
   ]
  },
  {
   "cell_type": "code",
   "execution_count": 9,
   "metadata": {
    "collapsed": true
   },
   "outputs": [],
   "source": [
    "list1=raiz(1,40); #le aplicamos la función raíz a las condicione iniciales 1,2,3,4 y pedimos 40 iteraciones\n",
    "list2=raiz(2,40);\n",
    "list3=raiz(3,40);\n",
    "list4=raiz(4,40);"
   ]
  },
  {
   "cell_type": "code",
   "execution_count": 10,
   "metadata": {
    "collapsed": false
   },
   "outputs": [],
   "source": [
    "using PyPlot"
   ]
  },
  {
   "cell_type": "code",
   "execution_count": 11,
   "metadata": {
    "collapsed": false
   },
   "outputs": [
    {
     "data": {
      "image/png": "[encoded data removed]",
      "text/plain": [
       "PyPlot.Figure(PyObject <matplotlib.figure.Figure object at 0x7f6819a68b10>)"
      ]
     },
     "metadata": {},
     "output_type": "display_data"
    }
   ],
   "source": [
    "plot(real(list1)) #graficamos las 4 listas\n",
    "plot(real(list2))\n",
    "plot(real(list3))\n",
    "plot(real(list4))\n",
    "show();"
   ]
  },
  {
   "cell_type": "code",
   "execution_count": 12,
   "metadata": {
    "collapsed": false
   },
   "outputs": [
    {
     "data": {
      "text/plain": [
       "error (generic function with 1 method)"
      ]
     },
     "execution_count": 12,
     "metadata": {},
     "output_type": "execute_result"
    }
   ],
   "source": [
    "function error(x0,N)  #definimos una función error con los mismos argumentos de la raíz y la explicación del código es análoga\n",
    "    list=zeros(N)\n",
    "for i in 1:N\n",
    "    x0=x0-(f(x0)/fp(x0))\n",
    "    x=x0\n",
    "        list[i]= x0\n",
    "end \n",
    "    return(list-list[N])./list[N] #aquí en lugar de pedir los valores de la lista con las aproximaciones de raíz, pedimos la función del error del ejercicio\n",
    "end \n",
    "\n"
   ]
  },
  {
   "cell_type": "code",
   "execution_count": 13,
   "metadata": {
    "collapsed": false
   },
   "outputs": [],
   "source": [
    "list1=error(1,40); #graficamos el error de la función \n",
    "list2=error(2,40);\n",
    "list3=error(3,40);\n",
    "list4=error(4,40);"
   ]
  },
  {
   "cell_type": "code",
   "execution_count": 14,
   "metadata": {
    "collapsed": true
   },
   "outputs": [],
   "source": [
    "using PyPlot"
   ]
  },
  {
   "cell_type": "code",
   "execution_count": 15,
   "metadata": {
    "collapsed": false
   },
   "outputs": [
    {
     "data": {
      "image/png": "[encoded data removed]",
      "text/plain": [
       "PyPlot.Figure(PyObject <matplotlib.figure.Figure object at 0x7f6817968d90>)"
      ]
     },
     "metadata": {},
     "output_type": "display_data"
    }
   ],
   "source": [
    "plot(real(list1)) \n",
    "plot(real(list2))\n",
    "plot(real(list3))\n",
    "plot(real(list4))\n",
    "show();"
   ]
  },
  {
   "cell_type": "code",
   "execution_count": 16,
   "metadata": {
    "collapsed": true
   },
   "outputs": [],
   "source": [
    "function biseccion(a,b,N)\n",
    "    list=zeros(N) #creamos un arreglo de zeros de dimención N\n",
    "    p = (a+b)/2  #Donde p es la raíz de la función y a,b son valores aproximados por la derecha e izquierda a la raíz\n",
    "    f(x) = x^3-x-2  #f(x) es la función a la que le queremos sacar raíz\n",
    "    for i in 1:N   #usamos un ciclo for para aproximar los valores de la raíz, damos N iteraciones al ciclo\n",
    "        if  f(a)*f(p) > 0    #definimos un condicional que asigna a=p si f(a)*f(b)>0\n",
    "            a = p\n",
    "        end\n",
    "        \n",
    "        if f(b)*f(p) > 0    #si f(b)*f(p)>0 entonces b=p\n",
    "            b = p\n",
    "        end\n",
    "        p = (a+b)/2   #una vez obtenidos los valores de a y b se realiza la operación p y se gurda el resultado en la lista\n",
    "        list[i]=p\n",
    "    end\n",
    "    return list\n",
    "end;    "
   ]
  },
  {
   "cell_type": "code",
   "execution_count": 17,
   "metadata": {
    "collapsed": false
   },
   "outputs": [],
   "source": [
    "list1=biseccion(0,100,50);\n",
    "list2=biseccion(0,200,50);\n",
    "list3=biseccion(0,300,50);\n",
    "list4=biseccion(0,400,50);"
   ]
  },
  {
   "cell_type": "code",
   "execution_count": 18,
   "metadata": {
    "collapsed": true
   },
   "outputs": [],
   "source": [
    "using PyPlot"
   ]
  },
  {
   "cell_type": "code",
   "execution_count": 19,
   "metadata": {
    "collapsed": false
   },
   "outputs": [
    {
     "data": {
      "image/png": "[encoded data removed]",
      "text/plain": [
       "PyPlot.Figure(PyObject <matplotlib.figure.Figure object at 0x7f681780bf10>)"
      ]
     },
     "metadata": {},
     "output_type": "display_data"
    }
   ],
   "source": [
    "plot(real(list1))\n",
    "plot(real(list2))\n",
    "plot(real(list3))\n",
    "plot(real(list4))\n",
    "show();"
   ]
  },
  {
   "cell_type": "code",
   "execution_count": 20,
   "metadata": {
    "collapsed": false
   },
   "outputs": [
    {
     "data": {
      "text/plain": [
       "elotito (generic function with 1 method)"
      ]
     },
     "execution_count": 20,
     "metadata": {},
     "output_type": "execute_result"
    }
   ],
   "source": [
    "function elotito(f,fp,x0,N)  #creamos una función que tenga como argumentos una F, su derivada Fp , una condición inicial x0 y un número de iteraciones \n",
    "    \n",
    "    list=zeros(N)  #el funcionamiento del ciclo, la lista y el x0 es análogo a los códigos anteriores\n",
    "    \n",
    "    for i in 1:N\n",
    "        x0=x0-(f(x0)/fp(x0))\n",
    "    x=x0\n",
    "        list[i]= x0\n",
    "    end \n",
    "    return list\n",
    "end  "
   ]
  },
  {
   "cell_type": "code",
   "execution_count": 21,
   "metadata": {
    "collapsed": true
   },
   "outputs": [],
   "source": [
    "list1=elotito(x-> x^3-x^2-x-1,x-> 3*x^2-2*x-1,1,40);  #le damos a la función los argumentos necesarios y pedimos que grafique con 4 condiciones iniciales \n",
    "list2=elotito(x-> x^3-x^2-x-1,x-> 3*x^2-2*x-1,2,40);\n",
    "list3=elotito(x-> x^3-x^2-x-1,x-> 3*x^2-2*x-1,3,40);\n",
    "list4=elotito(x-> x^3-x^2-x-1,x-> 3*x^2-2*x-1,4,40);\n"
   ]
  },
  {
   "cell_type": "code",
   "execution_count": 22,
   "metadata": {
    "collapsed": true
   },
   "outputs": [],
   "source": [
    "using PyPlot"
   ]
  },
  {
   "cell_type": "code",
   "execution_count": 23,
   "metadata": {
    "collapsed": false
   },
   "outputs": [
    {
     "data": {
      "image/png": "[encoded data removed]",
      "text/plain": [
       "PyPlot.Figure(PyObject <matplotlib.figure.Figure object at 0x7f68177516d0>)"
      ]
     },
     "metadata": {},
     "output_type": "display_data"
    }
   ],
   "source": [
    "plot(real(list1))\n",
    "plot(real(list2))\n",
    "plot(real(list3))\n",
    "plot(real(list4))\n",
    "show();\n"
   ]
  },
  {
   "cell_type": "markdown",
   "metadata": {},
   "source": [
    "# Aclaración"
   ]
  },
  {
   "cell_type": "markdown",
   "metadata": {},
   "source": [
    "### El ejercicio pide que encontremos raices y creemos funciones con argumento (f,df,xo) en la siguiente parte usamos un for, lo que nos pide un cierto número de iteraciones, esto nos obliga a que el argumento sea (f,df,x0,N) o definir la N dentro del ciclo, haremos el trabajo con un ciclo while y un for para mostrar una función que sólo dependa de (f,df,x0)."
   ]
  },
  {
   "cell_type": "code",
   "execution_count": 24,
   "metadata": {
    "collapsed": false
   },
   "outputs": [
    {
     "data": {
      "text/plain": [
       "elotito (generic function with 1 method)"
      ]
     },
     "execution_count": 24,
     "metadata": {},
     "output_type": "execute_result"
    }
   ],
   "source": [
    "function elotito(f,fp,x0,N)  #creamos una función que tenga como argumentos una F, su derivada Fp , una condición inicial x0 y un número de iteraciones \n",
    "    \n",
    "    list=zeros(N)  #el funcionamiento del ciclo, la lista y el x0 es análogo a los códigos anteriores\n",
    "    \n",
    "    for i in 1:N\n",
    "        x0=x0-(f(x0)/fp(x0))\n",
    "        x=x0\n",
    "        #list[i]= x0\n",
    "    end \n",
    "    list= x0\n",
    "    return list\n",
    "end  "
   ]
  },
  {
   "cell_type": "code",
   "execution_count": 25,
   "metadata": {
    "collapsed": false
   },
   "outputs": [
    {
     "data": {
      "text/plain": [
       "2.0:0.005025125628140704:3.0"
      ]
     },
     "execution_count": 25,
     "metadata": {},
     "output_type": "execute_result"
    }
   ],
   "source": [
    "x=linspace(2,3,200) #elotito.(f,fp,x,N)"
   ]
  },
  {
   "cell_type": "code",
   "execution_count": 26,
   "metadata": {
    "collapsed": false
   },
   "outputs": [],
   "source": [
    "list1=elotito.(x-> x^3-x^2-x-1,x-> 3*x^2-2*x-1,x,4);\n"
   ]
  },
  {
   "cell_type": "code",
   "execution_count": 27,
   "metadata": {
    "collapsed": false
   },
   "outputs": [
    {
     "name": "stdout",
     "output_type": "stream",
     "text": [
      "[1.83929, 1.83929, 1.83929, 1.83929, 1.83929, 1.83929, 1.83929, 1.83929, 1.83929, 1.83929, 1.83929, 1.83929, 1.83929, 1.83929, 1.83929, 1.83929, 1.83929, 1.83929, 1.83929, 1.83929, 1.83929, 1.83929, 1.83929, 1.83929, 1.83929, 1.83929, 1.83929, 1.83929, 1.83929, 1.83929, 1.83929, 1.83929, 1.83929, 1.83929, 1.83929, 1.83929, 1.83929, 1.83929, 1.83929, 1.83929, 1.83929, 1.83929, 1.83929, 1.83929, 1.83929, 1.83929, 1.83929, 1.83929, 1.83929, 1.83929, 1.83929, 1.83929, 1.83929, 1.83929, 1.83929, 1.83929, 1.83929, 1.83929, 1.83929, 1.83929, 1.83929, 1.83929, 1.83929, 1.83929, 1.83929, 1.83929, 1.83929, 1.83929, 1.83929, 1.83929, 1.83929, 1.83929, 1.83929, 1.83929, 1.83929, 1.83929, 1.83929, 1.83929, 1.83929, 1.83929, 1.83929, 1.83929, 1.83929, 1.83929, 1.83929, 1.83929, 1.83929, 1.83929, 1.83929, 1.83929, 1.83929, 1.83929, 1.83929, 1.83929, 1.83929, 1.83929, 1.83929, 1.83929, 1.83929, 1.83929, 1.83929, 1.83929, 1.83929, 1.83929, 1.83929, 1.83929, 1.83929, 1.83929, 1.83929, 1.83929, 1.83929, 1.83929, 1.83929, 1.83929, 1.83929, 1.83929, 1.83929, 1.83929, 1.83929, 1.83929, 1.83929, 1.83929, 1.83929, 1.83929, 1.83929, 1.83929, 1.83929, 1.83929, 1.83929, 1.83929, 1.83929, 1.83929, 1.83929, 1.83929, 1.83929, 1.83929, 1.83929, 1.83929, 1.83929, 1.83929, 1.83929, 1.83929, 1.83929, 1.83929, 1.83929, 1.83929, 1.83929, 1.83929, 1.83929, 1.83929, 1.83929, 1.83929, 1.8393, 1.8393, 1.8393, 1.8393, 1.8393, 1.8393, 1.8393, 1.8393, 1.8393, 1.8393, 1.8393, 1.8393, 1.8393, 1.8393, 1.8393, 1.8393, 1.83931, 1.83931, 1.83931, 1.83931, 1.83931, 1.83931, 1.83931, 1.83931, 1.83931, 1.83932, 1.83932, 1.83932, 1.83932, 1.83932, 1.83932, 1.83932, 1.83932, 1.83933, 1.83933, 1.83933, 1.83933, 1.83933, 1.83934, 1.83934, 1.83934, 1.83934, 1.83934, 1.83935, 1.83935, 1.83935, 1.83935, 1.83936]\n"
     ]
    }
   ],
   "source": [
    "println(list1)"
   ]
  },
  {
   "cell_type": "code",
   "execution_count": 28,
   "metadata": {
    "collapsed": false
   },
   "outputs": [
    {
     "data": {
      "text/plain": [
       "Newtonwhile (generic function with 1 method)"
      ]
     },
     "execution_count": 28,
     "metadata": {},
     "output_type": "execute_result"
    }
   ],
   "source": [
    "function Newtonwhile(f,fp,x0) \n",
    "        \n",
    "    while abs(f(x0))>1e-7    \n",
    "    x0=x0-(f(x0)/fp(x0))\n",
    "    x=x0            \n",
    "    end         \n",
    "    println(x0)\n",
    "end"
   ]
  },
  {
   "cell_type": "code",
   "execution_count": 29,
   "metadata": {
    "collapsed": false
   },
   "outputs": [
    {
     "name": "stdout",
     "output_type": "stream",
     "text": [
      "1.8392867552141636\n"
     ]
    }
   ],
   "source": [
    "Newtonwhile(x-> x^3-x^2-x-1,x-> 3*x^2-2*x-1,1.5)"
   ]
  },
  {
   "cell_type": "code",
   "execution_count": 30,
   "metadata": {
    "collapsed": false
   },
   "outputs": [
    {
     "data": {
      "text/plain": [
       "2.0:0.005025125628140704:3.0"
      ]
     },
     "execution_count": 30,
     "metadata": {},
     "output_type": "execute_result"
    }
   ],
   "source": [
    "x = linspace(2,3,200)"
   ]
  },
  {
   "cell_type": "code",
   "execution_count": 31,
   "metadata": {
    "collapsed": false
   },
   "outputs": [
    {
     "name": "stdout",
     "output_type": "stream",
     "text": [
      "1.8392867552141636\n",
      "1.8392867552141652\n",
      "1.8392867552141672\n",
      "1.8392867552141703\n",
      "1.8392867552141747\n",
      "1.8392867552141814\n",
      "1.8392867552141907\n",
      "1.839286755214204\n",
      "1.8392867552142227\n",
      "1.8392867552142484\n",
      "1.839286755214284\n",
      "1.8392867552143322\n",
      "1.8392867552143974\n",
      "1.8392867552144851\n",
      "1.8392867552146015\n",
      "1.8392867552147554\n",
      "1.8392867552149574\n",
      "1.839286755215221\n",
      "1.8392867552155623\n",
      "1.8392867552160017\n",
      "1.8392867552165646\n",
      "1.8392867552172811\n",
      "1.8392867552181886\n",
      "1.839286755219332\n",
      "1.8392867552207655\n",
      "1.8392867552225545\n",
      "1.839286755224776\n",
      "1.8392867552275232\n",
      "1.8392867552309053\n",
      "1.8392867552350527\n",
      "1.8392867552401173\n",
      "1.8392867552462782\n",
      "1.8392867552537449\n",
      "1.8392867552627612\n",
      "1.8392867552736105\n",
      "1.8392867552866212\n",
      "1.839286755302172\n",
      "1.8392867553206995\n",
      "1.839286755342705\n",
      "1.8392867553687626\n",
      "1.839286755399528\n",
      "1.8392867554357486\n",
      "1.8392867554782737\n",
      "1.8392867555280665\n",
      "1.8392867555862167\n",
      "1.839286755653954\n",
      "1.8392867557326644\n",
      "1.8392867558239043\n",
      "1.8392867559294201\n",
      "1.839286756051167\n",
      "1.839286756191328\n",
      "1.839286756352338\n",
      "1.8392867565369062\n",
      "1.8392867567480429\n",
      "1.8392867569890854\n",
      "1.839286757263728\n",
      "1.8392867575760536\n",
      "1.8392867579305665\n",
      "1.8392867583322285\n",
      "1.8392867587864952\n",
      "1.8392867592993585\n",
      "1.8392867598773868\n",
      "1.8392867605277725\n",
      "1.839286761258377\n",
      "1.8392867620777833\n",
      "1.8392867629953484\n",
      "1.8392867640212598\n",
      "1.8392867651665943\n",
      "1.8392867664433794\n",
      "1.83928676786466\n",
      "1.8392867694445667\n",
      "1.8392867711983865\n",
      "1.8392867731426392\n",
      "1.8392867552141614\n",
      "1.8392867552141616\n",
      "1.8392867552141616\n",
      "1.8392867552141619\n",
      "1.839286755214162\n",
      "1.839286755214162\n",
      "1.8392867552141623\n",
      "1.8392867552141625\n",
      "1.839286755214163\n",
      "1.8392867552141634\n",
      "1.8392867552141638\n",
      "1.8392867552141645\n",
      "1.8392867552141654\n",
      "1.839286755214166\n",
      "1.8392867552141672\n",
      "1.8392867552141685\n",
      "1.83928675521417\n",
      "1.8392867552141718\n",
      "1.839286755214174\n",
      "1.8392867552141767\n",
      "1.8392867552141796\n",
      "1.8392867552141834\n",
      "1.8392867552141876\n",
      "1.8392867552141927\n",
      "1.8392867552141985\n",
      "1.8392867552142056\n",
      "1.8392867552142138\n",
      "1.8392867552142234\n",
      "1.8392867552142347\n",
      "1.839286755214248\n",
      "1.8392867552142633\n",
      "1.839286755214281\n",
      "1.839286755214302\n",
      "1.839286755214326\n",
      "1.839286755214354\n",
      "1.8392867552143861\n",
      "1.8392867552144234\n",
      "1.8392867552144665\n",
      "1.8392867552145162\n",
      "1.8392867552145733\n",
      "1.8392867552146388\n",
      "1.839286755214714\n",
      "1.8392867552148002\n",
      "1.8392867552148988\n",
      "1.8392867552150116\n",
      "1.8392867552151402\n",
      "1.8392867552152872\n",
      "1.8392867552154541\n",
      "1.839286755215644\n",
      "1.8392867552158598\n",
      "1.8392867552161047\n",
      "1.839286755216382\n",
      "1.839286755216696\n",
      "1.839286755217051\n",
      "1.8392867552174519\n",
      "1.8392867552179042\n",
      "1.8392867552184138\n",
      "1.8392867552189875\n",
      "1.8392867552196326\n",
      "1.8392867552203573\n",
      "1.8392867552211707\n",
      "1.8392867552220822\n",
      "1.839286755223103\n",
      "1.8392867552242451\n",
      "1.8392867552255217\n",
      "1.839286755226947\n",
      "1.839286755228537\n",
      "1.8392867552303092\n",
      "1.8392867552322822\n",
      "1.8392867552344774\n",
      "1.8392867552369172\n",
      "1.8392867552396261\n",
      "1.8392867552426317\n",
      "1.8392867552459637\n",
      "1.839286755249654\n",
      "1.8392867552537375\n",
      "1.8392867552582526\n",
      "1.8392867552632408\n",
      "1.839286755268747\n",
      "1.8392867552748202\n",
      "1.8392867552815135\n",
      "1.8392867552888845\n",
      "1.8392867552969951\n",
      "1.839286755305913\n",
      "1.8392867553157106\n",
      "1.8392867553264673\n",
      "1.839286755338268\n",
      "1.8392867553512038\n",
      "1.8392867553653744\n",
      "1.8392867553808865\n",
      "1.839286755397855\n",
      "1.8392867554164032\n",
      "1.839286755436664\n",
      "1.8392867554587815\n",
      "1.8392867554829087\n",
      "1.8392867555092103\n",
      "1.8392867555378638\n",
      "1.839286755569059\n",
      "1.8392867556029993\n",
      "1.8392867556399026\n",
      "1.8392867556800023\n",
      "1.8392867557235477\n",
      "1.839286755770806\n",
      "1.8392867558220618\n",
      "1.8392867558776202\n",
      "1.839286755937806\n",
      "1.839286756002966\n",
      "1.8392867560734698\n",
      "1.839286756149712\n",
      "1.8392867562321114\n",
      "1.839286756321115\n",
      "1.8392867564171984\n",
      "1.839286756520867\n",
      "1.839286756632658\n",
      "1.8392867567531423\n",
      "1.8392867568829256\n",
      "1.8392867570226517\n",
      "1.8392867571730023\n",
      "1.8392867573347012\n",
      "1.839286757508515\n",
      "1.8392867576952558\n",
      "1.8392867578957834\n",
      "1.839286758111008\n",
      "1.8392867583418917\n",
      "1.8392867585894523\n",
      "1.8392867588547657\n",
      "1.8392867591389677\n"
     ]
    },
    {
     "data": {
      "text/plain": [
       "200-element Array{Void,1}:\n",
       " nothing\n",
       " nothing\n",
       " nothing\n",
       " nothing\n",
       " nothing\n",
       " nothing\n",
       " nothing\n",
       " nothing\n",
       " nothing\n",
       " nothing\n",
       " nothing\n",
       " nothing\n",
       " nothing\n",
       " ⋮      \n",
       " nothing\n",
       " nothing\n",
       " nothing\n",
       " nothing\n",
       " nothing\n",
       " nothing\n",
       " nothing\n",
       " nothing\n",
       " nothing\n",
       " nothing\n",
       " nothing\n",
       " nothing"
      ]
     },
     "execution_count": 31,
     "metadata": {},
     "output_type": "execute_result"
    }
   ],
   "source": [
    "Newtonwhile.(f,fp,x) #Se prueba la función para un conjunto de condiciones iniciales"
   ]
  },
  {
   "cell_type": "code",
   "execution_count": 32,
   "metadata": {
    "collapsed": false
   },
   "outputs": [
    {
     "name": "stderr",
     "output_type": "stream",
     "text": [
      "\u001b[1m\u001b[36mINFO: \u001b[39m\u001b[22m\u001b[36mPackage SymPy is already installed\n",
      "\u001b[39m\u001b[1m\u001b[36mINFO: \u001b[39m\u001b[22m\u001b[36mMETADATA is out-of-date — you may not have the latest version of SymPy\n",
      "\u001b[39m"
     ]
    }
   ],
   "source": [
    "Pkg.add(\"SymPy\")"
   ]
  },
  {
   "cell_type": "code",
   "execution_count": 33,
   "metadata": {
    "collapsed": false
   },
   "outputs": [],
   "source": [
    "using SymPy"
   ]
  },
  {
   "cell_type": "code",
   "execution_count": 34,
   "metadata": {
    "collapsed": false
   },
   "outputs": [
    {
     "data": {
      "text/plain": [
       "metodo (generic function with 1 method)"
      ]
     },
     "execution_count": 34,
     "metadata": {},
     "output_type": "execute_result"
    }
   ],
   "source": [
    "function metodo(f,x0) #Se creo una funcion que solo toma como argumentos a la funcion que se desea encontrar la raíz y la condición inicial\n",
    "    x = Sym(\"x\")\n",
    "    Er = 10\n",
    "    w1 = x0\n",
    "    Df = diff(f(x),x)\n",
    "    d = lambdify(Df,[x]) #La funcion lambdify reescribe lo de Sympy para que julia lo entienda\n",
    "        while Er > 0.000001\n",
    "        w2 = w1 - (f(w1)/d(w1))\n",
    "        Er = abs(w2-w1)\n",
    "        w1 = w2\n",
    "            end\n",
    "    return w1\n",
    "end"
   ]
  },
  {
   "cell_type": "code",
   "execution_count": 35,
   "metadata": {
    "collapsed": false
   },
   "outputs": [
    {
     "name": "stderr",
     "output_type": "stream",
     "text": [
      "WARNING: Compat.UTF8String is deprecated, use String instead.\n",
      "  likely near In[35]:2\n",
      "WARNING: Compat.UTF8String is deprecated, use String instead.\n",
      "  likely near In[35]:2\n",
      "WARNING: Compat.UTF8String is deprecated, use String instead.\n",
      "  likely near In[35]:2\n",
      "in jprint at /home/juser/.julia/v0.6/SymPy/src/display.jl\n"
     ]
    },
    {
     "data": {
      "text/plain": [
       "1.8392867552141612"
      ]
     },
     "execution_count": 35,
     "metadata": {},
     "output_type": "execute_result"
    }
   ],
   "source": [
    "h(x) = x^3-x^2-x-1\n",
    "metodo(h,5)"
   ]
  },
  {
   "cell_type": "code",
   "execution_count": null,
   "metadata": {
    "collapsed": true
   },
   "outputs": [],
   "source": []
  }
 ],
 "metadata": {
  "kernelspec": {
   "display_name": "Julia 0.6.0",
   "language": "julia",
   "name": "julia-0.6"
  },
  "language_info": {
   "file_extension": ".jl",
   "mimetype": "application/julia",
   "name": "julia",
   "version": "0.6.0"
  }
 },
 "nbformat": 4,
 "nbformat_minor": 2
}
